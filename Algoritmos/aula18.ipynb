{
  "nbformat": 4,
  "nbformat_minor": 0,
  "metadata": {
    "colab": {
      "provenance": [],
      "authorship_tag": "ABX9TyMAyN5rcwTa9+JCPUcBHOUd",
      "include_colab_link": true
    },
    "kernelspec": {
      "name": "python3",
      "display_name": "Python 3"
    },
    "language_info": {
      "name": "python"
    }
  },
  "cells": [
    {
      "cell_type": "markdown",
      "metadata": {
        "id": "view-in-github",
        "colab_type": "text"
      },
      "source": [
        "<a href=\"https://colab.research.google.com/github/kayllanecastro/Trabalhos_TADS/blob/main/Algoritmos/aula18.ipynb\" target=\"_parent\"><img src=\"https://colab.research.google.com/assets/colab-badge.svg\" alt=\"Open In Colab\"/></a>"
      ]
    },
    {
      "cell_type": "markdown",
      "source": [
        "### Números Positivos"
      ],
      "metadata": {
        "id": "FGnKkqAg3_yX"
      }
    },
    {
      "cell_type": "markdown",
      "source": [
        "Faça um programa que leia valores  negativos ou positivos (desconsidere os valores nulos). A seguir, mostre a quantidade de valores positivos e negativos digitados."
      ],
      "metadata": {
        "id": "KQC4-O8Q4SGQ"
      }
    },
    {
      "cell_type": "code",
      "execution_count": null,
      "metadata": {
        "id": "0gAZ8_fP384_"
      },
      "outputs": [],
      "source": [
        "positivos = 0\n",
        "negativos = 0\n",
        "while True:\n",
        "  valor = int(input('Digite um valor (digite 0 para sair):  '))\n",
        "  if valor == 0:\n",
        "    break\n",
        "  elif valor > 0:\n",
        "    positivos += 1\n",
        "  else:\n",
        "    negativos += 1\n",
        "\n",
        "\n",
        "print(f'A quantidade de valores positivos digitados: {positivos}')\n",
        "print(f'A quantidade de valores negativos digitados: {negativos}')"
      ]
    },
    {
      "cell_type": "markdown",
      "source": [
        "\n",
        "### Pessoa mais velha"
      ],
      "metadata": {
        "id": "Q5SlWg5e4hSv"
      }
    },
    {
      "cell_type": "markdown",
      "source": [
        "Crie um algoritmo para ler nome e idade de um grupo de pessoas. O algoritmo deve finalizar quando o usuário digitar \"fim\" para o nome da próxima pessoa. O programa deverá imprimir o nome e idade da pessoa mais velha (pessoa com a maior idade)."
      ],
      "metadata": {
        "id": "nlfHQlLR4hS0"
      }
    },
    {
      "cell_type": "code",
      "source": [
        "nome_velho = ''\n",
        "idade_velho = 0\n",
        "while True:\n",
        "  nome = input('Digite o nome da pessoa ou \"fim\" para encerrar:  ')\n",
        "  if nome == 'fim':\n",
        "    break\n",
        "  idade = int(input('Digite a idade da pessoa:  '))\n",
        "  if idade > idade_velho:\n",
        "    nome_velho = nome\n",
        "    idade_velho = idade\n",
        "\n",
        "print(f'\\nA pessoa mais velha é {nome_velho} com {idade_velho}')"
      ],
      "metadata": {
        "id": "ESkUuiUA9ht6"
      },
      "execution_count": null,
      "outputs": []
    },
    {
      "cell_type": "markdown",
      "source": [
        "### Senha"
      ],
      "metadata": {
        "id": "LnVUwWAC5ZBk"
      }
    },
    {
      "cell_type": "markdown",
      "source": [
        "Escreva um programa que repita a leitura de uma senha até que ela seja válida. Para cada leitura de senha incorreta informada, escrever a mensagem \"Senha Inválida\". Quando a senha for informada corretamente deve ser impressa a mensagem \"Acesso Permitido\" e o algoritmo encerrado. Considere que a senha correta é \"SPFC@SOBERANO\"."
      ],
      "metadata": {
        "id": "LX1fVjvz4lPy"
      }
    },
    {
      "cell_type": "code",
      "source": [
        "while True:\n",
        "  senha = input('Digite a senha:  ')\n",
        "\n",
        "  if senha == 'SPFC@SOBERANO':\n",
        "    print('** Acesso Permitido **')\n",
        "    break\n",
        "  else:\n",
        "    print('## Senha Inválida ##')"
      ],
      "metadata": {
        "id": "IzJazbh-GsXT"
      },
      "execution_count": null,
      "outputs": []
    },
    {
      "cell_type": "markdown",
      "source": [
        "### Soma dos números"
      ],
      "metadata": {
        "id": "shxySF0D5Zws"
      }
    },
    {
      "cell_type": "markdown",
      "source": [
        "Faça um programa que solicite números ao usuário até que ele insira um número negativo e, em seguida, imprima a soma dos números digitados."
      ],
      "metadata": {
        "id": "9T7wTS0e4lsQ"
      }
    },
    {
      "cell_type": "code",
      "source": [
        "soma = 0\n",
        "while True:\n",
        "  num = float(input('Digite um número:  '))\n",
        "  if num < 0:\n",
        "    break\n",
        "  else:\n",
        "    soma += num\n",
        "\n",
        "print(f'A SOMA DOS NÚMEROS É: {soma}')"
      ],
      "metadata": {
        "id": "_1IPaxEYJVTy"
      },
      "execution_count": null,
      "outputs": []
    },
    {
      "cell_type": "markdown",
      "source": [
        "### Média de idade"
      ],
      "metadata": {
        "id": "aC2y7qaF5alY"
      }
    },
    {
      "cell_type": "markdown",
      "source": [
        "Faça um programa que calcule a média de idade de um grupo de pessoas. O programa deve perguntar a idade de cada pessoa e, em seguida, calcular a média."
      ],
      "metadata": {
        "id": "IvGtIOBM4mH0"
      }
    },
    {
      "cell_type": "code",
      "source": [
        "soma = 0\n",
        "quant = 0\n",
        "while True:\n",
        "  idade = int(input('Digite a idade da pessoa:  '))\n",
        "  if idade == 0:\n",
        "    break\n",
        "  elif idade > 0:\n",
        "   soma += idade\n",
        "   quant += 1\n",
        "   media = soma / quant\n",
        "\n",
        "print(f'A média de idade do grupo é: {media}')\n",
        "print(f'Quant = {quant} e soma = {soma}')"
      ],
      "metadata": {
        "id": "ts41XZ-yOfmj"
      },
      "execution_count": null,
      "outputs": []
    },
    {
      "cell_type": "code",
      "source": [
        "soma = 0\n",
        "quant = 0\n",
        "idade_1 = 0\n",
        "while idade_1 != 0:\n",
        "  idade_1 = int(input('Digite a idade da pessoa:  '))\n",
        "  soma += idade_1\n",
        "  quant += 1\n",
        "  media = soma / quant\n",
        "\n",
        "print(f'A média de idade do grupo é: {media}')\n",
        "print(f'Quant = {quant} e soma = {soma}')"
      ],
      "metadata": {
        "colab": {
          "base_uri": "https://localhost:8080/"
        },
        "id": "Cof3GbTARt3P",
        "outputId": "9807981c-a0b4-4019-f340-382fa640957f"
      },
      "execution_count": null,
      "outputs": [
        {
          "output_type": "stream",
          "name": "stdout",
          "text": [
            "A média de idade do grupo é: 4.0\n",
            "Quant = 0 e soma = 0\n"
          ]
        }
      ]
    }
  ]
}