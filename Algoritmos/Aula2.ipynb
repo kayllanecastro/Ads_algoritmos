{
  "nbformat": 4,
  "nbformat_minor": 0,
  "metadata": {
    "colab": {
      "provenance": [],
      "authorship_tag": "ABX9TyOydP6HPFYVLhGmkUUkF7J2",
      "include_colab_link": true
    },
    "kernelspec": {
      "name": "python3",
      "display_name": "Python 3"
    },
    "language_info": {
      "name": "python"
    }
  },
  "cells": [
    {
      "cell_type": "markdown",
      "metadata": {
        "id": "view-in-github",
        "colab_type": "text"
      },
      "source": [
        "<a href=\"https://colab.research.google.com/github/kayllanecastro/Trabalhos_TADS/blob/main/Algoritmos/Aula2.ipynb\" target=\"_parent\"><img src=\"https://colab.research.google.com/assets/colab-badge.svg\" alt=\"Open In Colab\"/></a>"
      ]
    },
    {
      "cell_type": "markdown",
      "source": [
        "### 2) Declare uma variável do tipo ponto flutuante (float) e atribua um valor decimal a ela. Em seguida, calcule o quadrado desse valor e exiba o resultado."
      ],
      "metadata": {
        "id": "Y4XaudoXXK6y"
      }
    },
    {
      "cell_type": "markdown",
      "source": [
        "**Entrada**"
      ],
      "metadata": {
        "id": "bTybjQ4UXQET"
      }
    },
    {
      "cell_type": "code",
      "source": [
        "valor = float(input('Informe um número: '))"
      ],
      "metadata": {
        "id": "EE8kqdmOXbKd",
        "colab": {
          "base_uri": "https://localhost:8080/"
        },
        "outputId": "08c212cb-bc76-410a-8c22-a69206ac28fc"
      },
      "execution_count": null,
      "outputs": [
        {
          "name": "stdout",
          "output_type": "stream",
          "text": [
            "Informe um número: 8\n"
          ]
        }
      ]
    },
    {
      "cell_type": "markdown",
      "source": [
        "**Lógica**"
      ],
      "metadata": {
        "id": "VogKxi2FXQmD"
      }
    },
    {
      "cell_type": "code",
      "source": [
        "result = valor ** 2"
      ],
      "metadata": {
        "id": "3P5G_ScAXb3D"
      },
      "execution_count": null,
      "outputs": []
    },
    {
      "cell_type": "markdown",
      "source": [
        "**Saída**"
      ],
      "metadata": {
        "id": "RVHjt7AoXQ1L"
      }
    },
    {
      "cell_type": "code",
      "source": [
        "print(f'O quadrado do {valor} é {result}')"
      ],
      "metadata": {
        "colab": {
          "base_uri": "https://localhost:8080/"
        },
        "id": "uhPQXMhaXcx8",
        "outputId": "fdaff7a6-45a2-48bb-8c10-1e7835b76b61"
      },
      "execution_count": null,
      "outputs": [
        {
          "output_type": "stream",
          "name": "stdout",
          "text": [
            "O quadrado do 8.0 é 64.0\n"
          ]
        }
      ]
    },
    {
      "cell_type": "markdown",
      "source": [
        "### 3) Declare duas variáveis do tipo inteiro e atribua valores a elas. Em seguida, troque os valores das variáveis entre si."
      ],
      "metadata": {
        "id": "SHlNYEDYgn3n"
      }
    },
    {
      "cell_type": "markdown",
      "source": [
        "**Entrada**"
      ],
      "metadata": {
        "id": "IeGKpe9Gg28w"
      }
    },
    {
      "cell_type": "code",
      "source": [
        "valor1 = float(input('Informe o número 1: '))\n",
        "valor2 = float(input('Informe o número 2: '))"
      ],
      "metadata": {
        "colab": {
          "base_uri": "https://localhost:8080/"
        },
        "id": "CkZ1euHPg5I4",
        "outputId": "0c7d50de-54e8-46ae-9259-0ffb02495be7"
      },
      "execution_count": null,
      "outputs": [
        {
          "name": "stdout",
          "output_type": "stream",
          "text": [
            "Informe o número 1: 4\n",
            "Informe o número 2: 5\n"
          ]
        }
      ]
    },
    {
      "cell_type": "markdown",
      "source": [
        "**Lógica**"
      ],
      "metadata": {
        "id": "LK5HK2e6g5me"
      }
    },
    {
      "cell_type": "code",
      "source": [
        "valor3 = valor1\n",
        "valor1 = valor2\n",
        "valor2 = valor3"
      ],
      "metadata": {
        "id": "gGnuS55Ng-Cq"
      },
      "execution_count": null,
      "outputs": []
    },
    {
      "cell_type": "markdown",
      "source": [
        "**Saída**"
      ],
      "metadata": {
        "id": "tPnndw1jg-pJ"
      }
    },
    {
      "cell_type": "code",
      "source": [
        "print(f'Valor 1 é {valor1}, Valor 2 é {valor2}')"
      ],
      "metadata": {
        "colab": {
          "base_uri": "https://localhost:8080/"
        },
        "id": "vuMD-gT8hBzZ",
        "outputId": "b7a69af6-3032-45d7-98bd-2778eed3b0ee"
      },
      "execution_count": null,
      "outputs": [
        {
          "output_type": "stream",
          "name": "stdout",
          "text": [
            "Valor 1 é 5.0, Valor 2 é 4.0\n"
          ]
        }
      ]
    },
    {
      "cell_type": "markdown",
      "source": [
        "### 4) Declare duas variáveis do tipo inteiro e atribua valores a elas. Em seguida, troque os valores das variáveis entre si sem usar uma terceira variável temporária."
      ],
      "metadata": {
        "id": "IqJ6iVaAjSKo"
      }
    },
    {
      "cell_type": "markdown",
      "source": [
        "**Entrada**"
      ],
      "metadata": {
        "id": "lwK26EcIjc8k"
      }
    },
    {
      "cell_type": "code",
      "source": [
        "var1 = float(input('Informe o número 1: '))\n",
        "var2 = float(input('Informe o número 2: '))"
      ],
      "metadata": {
        "colab": {
          "base_uri": "https://localhost:8080/"
        },
        "id": "5OAJiEPHjn-h",
        "outputId": "d9f57bb8-01a2-44af-bb54-41edb6bbfb5e"
      },
      "execution_count": null,
      "outputs": [
        {
          "name": "stdout",
          "output_type": "stream",
          "text": [
            "Informe o número 1: 5\n",
            "Informe o número 2: 4\n"
          ]
        }
      ]
    },
    {
      "cell_type": "markdown",
      "source": [
        "**Lógica**"
      ],
      "metadata": {
        "id": "GkIvY3dyjh9K"
      }
    },
    {
      "cell_type": "code",
      "source": [
        "var1, var2 = var2, var1"
      ],
      "metadata": {
        "id": "uWdGjTWgjpEs"
      },
      "execution_count": null,
      "outputs": []
    },
    {
      "cell_type": "markdown",
      "source": [
        "**Saída**"
      ],
      "metadata": {
        "id": "ZYTIscqgjkz7"
      }
    },
    {
      "cell_type": "code",
      "source": [
        "print(f'Valor 1 é {var1}, Valor 2 é {var2}')"
      ],
      "metadata": {
        "colab": {
          "base_uri": "https://localhost:8080/"
        },
        "id": "nuewdvBdjqOE",
        "outputId": "3c9e2f2b-d652-4d85-e4ae-951c41749184"
      },
      "execution_count": null,
      "outputs": [
        {
          "output_type": "stream",
          "name": "stdout",
          "text": [
            "Valor 1 é 4.0, Valor 2 é 5.0\n"
          ]
        }
      ]
    },
    {
      "cell_type": "markdown",
      "source": [
        "### 5) Declare duas variáveis do tipo inteiro e atribua valores a elas. Em seguida, calcule o resto da divisão do primeiro número pelo segundo número e exiba o resultado."
      ],
      "metadata": {
        "id": "KLkOSC21mN6d"
      }
    },
    {
      "cell_type": "markdown",
      "source": [
        "**Entrada**"
      ],
      "metadata": {
        "id": "GBvSlVV5mZSc"
      }
    },
    {
      "cell_type": "code",
      "source": [
        "valor1 = float(input('Informe o número 1: '))\n",
        "valor2 = float(input('Informe o número 2: '))"
      ],
      "metadata": {
        "colab": {
          "base_uri": "https://localhost:8080/"
        },
        "id": "4JZ3ZAVYmiNq",
        "outputId": "4f30aed8-b45c-4b6e-a6b4-330a19ea6656"
      },
      "execution_count": null,
      "outputs": [
        {
          "name": "stdout",
          "output_type": "stream",
          "text": [
            "Informe o número 1: 34\n",
            "Informe o número 2: 5\n"
          ]
        }
      ]
    },
    {
      "cell_type": "markdown",
      "source": [
        "**Lógica**"
      ],
      "metadata": {
        "id": "Z0ARN7CymcYb"
      }
    },
    {
      "cell_type": "code",
      "source": [
        "resto = valor1 % valor2"
      ],
      "metadata": {
        "id": "_uGl420WmjaD"
      },
      "execution_count": null,
      "outputs": []
    },
    {
      "cell_type": "markdown",
      "source": [
        "**Saída**"
      ],
      "metadata": {
        "id": "e-T7X7B5me0r"
      }
    },
    {
      "cell_type": "code",
      "source": [
        "print(f'O resto da divisão é {resto}')"
      ],
      "metadata": {
        "colab": {
          "base_uri": "https://localhost:8080/"
        },
        "id": "RFjW3GGCmkQ6",
        "outputId": "03e8c6c5-0855-4097-83af-4a0b9fedc450"
      },
      "execution_count": null,
      "outputs": [
        {
          "output_type": "stream",
          "name": "stdout",
          "text": [
            "O resto da divisão é 4.0\n"
          ]
        }
      ]
    },
    {
      "cell_type": "markdown",
      "source": [
        "### 6) Declare três variáveis do tipo inteiro e atribua valores a elas representando os lados de um triângulo. Em seguida, calcule a área desse triângulo usando a fórmula de Heron: área = raiz quadrada de (s * (s - lado1) * (s - lado2) * (s - lado3)), onde s é o semiperímetro do triângulo (s = (lado1 + lado2 + lado3) / 2)."
      ],
      "metadata": {
        "id": "XzvP4moktpZR"
      }
    },
    {
      "cell_type": "markdown",
      "source": [
        "**Entrada**"
      ],
      "metadata": {
        "id": "hsLJfGNttxrZ"
      }
    },
    {
      "cell_type": "code",
      "source": [
        "lado1 = float(input('Informe o lado 1: '))\n",
        "lado2 = float(input('Informe o lado 2: '))\n",
        "lado3 = float(input('Informe o lado 3: '))"
      ],
      "metadata": {
        "id": "7m51ivzTt7sH",
        "colab": {
          "base_uri": "https://localhost:8080/"
        },
        "outputId": "2c0dab76-cdcc-4780-8734-059ce90491e5"
      },
      "execution_count": null,
      "outputs": [
        {
          "name": "stdout",
          "output_type": "stream",
          "text": [
            "Informe o lado 1: 12\n",
            "Informe o lado 2: 15\n",
            "Informe o lado 3: 21\n"
          ]
        }
      ]
    },
    {
      "cell_type": "markdown",
      "source": [
        "**Lógica**"
      ],
      "metadata": {
        "id": "n1lYElmZt2Fo"
      }
    },
    {
      "cell_type": "code",
      "source": [
        "s = (lado1 + lado2 + lado3) / 2\n",
        "area = ((s * (s - lado1) * (s - lado2) * (s - lado3))) ** (1/2)"
      ],
      "metadata": {
        "id": "0UugUAX8t1oD"
      },
      "execution_count": null,
      "outputs": []
    },
    {
      "cell_type": "markdown",
      "source": [
        "**Saída**"
      ],
      "metadata": {
        "id": "y77IVTMpt8SS"
      }
    },
    {
      "cell_type": "code",
      "source": [
        "print(f'A área do triângulo é {area}')"
      ],
      "metadata": {
        "id": "Qk6zH4swt_2_",
        "colab": {
          "base_uri": "https://localhost:8080/"
        },
        "outputId": "d852e90a-ec06-40db-c03e-16cca96729a8"
      },
      "execution_count": null,
      "outputs": [
        {
          "output_type": "stream",
          "name": "stdout",
          "text": [
            "A área do triângulo é 88.18163074019441\n"
          ]
        }
      ]
    }
  ]
}