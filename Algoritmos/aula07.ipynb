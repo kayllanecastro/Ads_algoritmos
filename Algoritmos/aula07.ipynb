{
  "nbformat": 4,
  "nbformat_minor": 0,
  "metadata": {
    "colab": {
      "provenance": [],
      "authorship_tag": "ABX9TyPTN2gz7f7AhL2IfURULx6K",
      "include_colab_link": true
    },
    "kernelspec": {
      "name": "python3",
      "display_name": "Python 3"
    },
    "language_info": {
      "name": "python"
    }
  },
  "cells": [
    {
      "cell_type": "markdown",
      "metadata": {
        "id": "view-in-github",
        "colab_type": "text"
      },
      "source": [
        "<a href=\"https://colab.research.google.com/github/kayllanecastro/Trabalhos_TADS/blob/main/Algoritmos/aula07.ipynb\" target=\"_parent\"><img src=\"https://colab.research.google.com/assets/colab-badge.svg\" alt=\"Open In Colab\"/></a>"
      ]
    },
    {
      "cell_type": "markdown",
      "source": [
        "### Você deve fazer um programa que leia um valor qualquer e apresente uma mensagem dizendo em qual dos seguintes intervalos ([0,25], [25,50], [50,75], [75,100]) este valor se encontra. Obviamente se o valor não estiver em nenhum destes intervalos, deverá ser impressa a mensagem “Fora de intervalo”. Por exemplo: [0,25]  indica valores entre 0 e 25.0000, inclusive eles."
      ],
      "metadata": {
        "id": "KmNszMQKp8di"
      }
    },
    {
      "cell_type": "code",
      "source": [
        "valor = int(input(\"Digite um valor: \"))"
      ],
      "metadata": {
        "colab": {
          "base_uri": "https://localhost:8080/"
        },
        "id": "_hrFejpsqCtR",
        "outputId": "1248198c-8603-45a6-a05d-06d34f8ece61"
      },
      "execution_count": null,
      "outputs": [
        {
          "name": "stdout",
          "output_type": "stream",
          "text": [
            "Digite um valor: 40\n"
          ]
        }
      ]
    },
    {
      "cell_type": "code",
      "source": [
        "# Lógica\n",
        "if valor >= 0 and valor <= 25:\n",
        "   intervalo = \"[0,25]\"\n",
        "elif valor > 25 and valor <= 50:\n",
        "    intervalo = \"[26,50]\"\n",
        "elif valor > 50 and valor <= 75:\n",
        "    intervalo = \"[51,75]\"\n",
        "elif valor > 75 and valor <= 100:\n",
        "    intervalo = \"[76,100]\"\n",
        "else:\n",
        "   intervalo = 'Fora de intervalo'\n"
      ],
      "metadata": {
        "id": "8GFG2UDwlQMA"
      },
      "execution_count": null,
      "outputs": []
    },
    {
      "cell_type": "code",
      "source": [
        "# Saída\n",
        "print(f'O valor está:{intervalo}')"
      ],
      "metadata": {
        "colab": {
          "base_uri": "https://localhost:8080/"
        },
        "id": "5R-8HlsblQdh",
        "outputId": "af1b1911-62d6-414e-f22d-3ed1eaa0f1c1"
      },
      "execution_count": null,
      "outputs": [
        {
          "output_type": "stream",
          "name": "stdout",
          "text": [
            "O valor está:[25,50]\n"
          ]
        }
      ]
    },
    {
      "cell_type": "markdown",
      "source": [
        "### Escreva um programa que leia uma senha. Caso a senha seja incorreta, o algoritmo deve escrever a mensagem \"Senha Inválida\". Quando a senha for informada corretamente, deve ser impressa a mensagem \"Acesso Permitido\". Considere que a senha correta é o valor 2002."
      ],
      "metadata": {
        "id": "5dQU4DkSsHp9"
      }
    },
    {
      "cell_type": "code",
      "source": [
        "# Entrada\n",
        "senha = int(input(\"Digite a senha: \"))\n",
        "senha_correta = 2002"
      ],
      "metadata": {
        "colab": {
          "base_uri": "https://localhost:8080/"
        },
        "id": "qd-N-0RBsP6U",
        "outputId": "59de2711-132c-47cd-b432-1e16430777db"
      },
      "execution_count": null,
      "outputs": [
        {
          "name": "stdout",
          "output_type": "stream",
          "text": [
            "Digite a senha: 2002\n"
          ]
        }
      ]
    },
    {
      "cell_type": "code",
      "source": [
        "# Lógica\n",
        "if senha == senha_correta:\n",
        "  result = \"Acesso Permitido\"\n",
        "else:\n",
        "  result = 'Senha Inválida'"
      ],
      "metadata": {
        "id": "4m_OcuOYsQVk"
      },
      "execution_count": null,
      "outputs": []
    },
    {
      "cell_type": "code",
      "source": [
        "# Saída\n",
        "print(result)"
      ],
      "metadata": {
        "colab": {
          "base_uri": "https://localhost:8080/"
        },
        "id": "QvNgCwJqsQrY",
        "outputId": "c8f66a00-9cd1-425a-9481-d70e480f87fd"
      },
      "execution_count": null,
      "outputs": [
        {
          "output_type": "stream",
          "name": "stdout",
          "text": [
            "Acesso Permitido\n"
          ]
        }
      ]
    },
    {
      "cell_type": "markdown",
      "source": [
        "### Um Posto de combustíveis deseja cadastrar qual combustível os clientes escolheram. Escreva um algoritmo para ler o tipo de combustível abastecido (codificado da seguinte forma: 1.Álcool 2.Gasolina 3.Diesel 4.Fim). Caso o usuário informe um código inválido (fora da faixa de 1 a 4), deixe uma mensagem de que o código é Inválido. Quando o código for válido, informar qual combustível foi cadastrado."
      ],
      "metadata": {
        "id": "WCCT-aLDtD-F"
      }
    },
    {
      "cell_type": "code",
      "source": [
        "# Entrada\n",
        "codigo = int(input(\"Informe o código do combustivel: \"))"
      ],
      "metadata": {
        "id": "-_9q7iaQtWjq",
        "colab": {
          "base_uri": "https://localhost:8080/"
        },
        "outputId": "197a3595-a612-48a3-99b1-4ccc9fac9419"
      },
      "execution_count": null,
      "outputs": [
        {
          "name": "stdout",
          "output_type": "stream",
          "text": [
            "Informe o código do combustivel: 5\n"
          ]
        }
      ]
    },
    {
      "cell_type": "code",
      "source": [
        "# Lógica\n",
        "if  codigo == 1:\n",
        "   combustivel = \"Álcool\"\n",
        "elif codigo == 2:\n",
        "   combustivel = \"Gasolina\"\n",
        "elif codigo == 3:\n",
        "   combustivel = \"Diesel\"\n",
        "elif codigo == 4:\n",
        "   combustivel = \"Fim\"\n",
        "else:\n",
        "   combustivel = 'Inválido'"
      ],
      "metadata": {
        "id": "NYB9BTkFtW06"
      },
      "execution_count": null,
      "outputs": []
    },
    {
      "cell_type": "code",
      "source": [
        "# Saída\n",
        "print(combustivel)"
      ],
      "metadata": {
        "id": "6kAxeCkDtXM_",
        "colab": {
          "base_uri": "https://localhost:8080/"
        },
        "outputId": "11ae21ea-76f7-4bf2-f1e2-98f503cd1504"
      },
      "execution_count": null,
      "outputs": [
        {
          "output_type": "stream",
          "name": "stdout",
          "text": [
            "Inválido\n"
          ]
        }
      ]
    },
    {
      "cell_type": "markdown",
      "source": [
        "### Agora, o posto de combustíveis desejar calcular o preço de um abastecimento. Altere o algoritmo anterior para que o usuário além de informar qual combustível deseja abastecer, também cadastre quantos litros foram abastecidos. Para isso, considere o preço do Álcool de R$ 4.00, o da Gasolina de R$ 5.95 e o Diesel de R$ 6.50 por litro."
      ],
      "metadata": {
        "id": "ayo0kxnytRim"
      }
    },
    {
      "cell_type": "code",
      "source": [
        "# Entrada\n",
        "codigo = int(input(\"Informe o código do combustivel: \"))\n",
        "valorpag = float(input('Informe o valor do pagamento: '))\n",
        "alcool = 4.00\n",
        "gasolina = 5.95\n",
        "diesel = 6.50"
      ],
      "metadata": {
        "colab": {
          "base_uri": "https://localhost:8080/"
        },
        "outputId": "30417785-93a0-458e-98fa-cf73287de228",
        "id": "9LBv9NL0vLE8"
      },
      "execution_count": null,
      "outputs": [
        {
          "name": "stdout",
          "output_type": "stream",
          "text": [
            "Informe o código do combustivel: 3\n",
            "Informe o valor do pagamento: 20\n"
          ]
        }
      ]
    },
    {
      "cell_type": "code",
      "source": [
        "# Lógica\n",
        "if  codigo == 1:\n",
        "   combustivel = \"Álcool\"\n",
        "   litros = valorpag / alcool\n",
        "elif codigo == 2:\n",
        "   combustivel = \"Gasolina\"\n",
        "   litros = valorpag / gasolina\n",
        "elif codigo == 3:\n",
        "   combustivel = \"Diesel\"\n",
        "   litros = valorpag / diesel\n",
        "else:\n",
        "   combustivel = 'Inválido'\n",
        "   litros = 0"
      ],
      "metadata": {
        "id": "No0MYXhqvQQ0"
      },
      "execution_count": null,
      "outputs": []
    },
    {
      "cell_type": "code",
      "source": [
        "# Saída\n",
        "print(f'Você abasteceu com {round(litros, 2)} litros do combustivel {combustivel}')"
      ],
      "metadata": {
        "colab": {
          "base_uri": "https://localhost:8080/"
        },
        "outputId": "c1360a37-4695-4bd3-f33b-0c5a3d6571f5",
        "id": "MBvieZptvTW0"
      },
      "execution_count": null,
      "outputs": [
        {
          "output_type": "stream",
          "name": "stdout",
          "text": [
            "Você abasteceu com 3.08 litros do combustivel Diesel\n"
          ]
        }
      ]
    }
  ]
}