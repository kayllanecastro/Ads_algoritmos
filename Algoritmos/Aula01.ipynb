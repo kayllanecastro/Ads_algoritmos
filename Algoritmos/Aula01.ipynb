{
  "nbformat": 4,
  "nbformat_minor": 0,
  "metadata": {
    "colab": {
      "provenance": [],
      "authorship_tag": "ABX9TyO0w/WM0VRWhNF8dNsKmOK9",
      "include_colab_link": true
    },
    "kernelspec": {
      "name": "python3",
      "display_name": "Python 3"
    },
    "language_info": {
      "name": "python"
    }
  },
  "cells": [
    {
      "cell_type": "markdown",
      "metadata": {
        "id": "view-in-github",
        "colab_type": "text"
      },
      "source": [
        "<a href=\"https://colab.research.google.com/github/kayllanecastro/Trabalhos_TADS/blob/main/Algoritmos/Aula01.ipynb\" target=\"_parent\"><img src=\"https://colab.research.google.com/assets/colab-badge.svg\" alt=\"Open In Colab\"/></a>"
      ]
    },
    {
      "cell_type": "markdown",
      "source": [
        "# **Algoritmos**"
      ],
      "metadata": {
        "id": "Yqm5Pcw6bP8x"
      }
    },
    {
      "cell_type": "markdown",
      "source": [
        "# **Entrada**"
      ],
      "metadata": {
        "id": "TCI7KSqPbaJU"
      }
    },
    {
      "cell_type": "code",
      "source": [
        "nome = input('Informe o nome do aluno: ')\n",
        "nota1 = float (input('Informe a primeira nota: '))\n",
        "nota2 = float(input('Informe a segunda nota: '))"
      ],
      "metadata": {
        "colab": {
          "base_uri": "https://localhost:8080/"
        },
        "id": "4EYMh8e5bkkO",
        "outputId": "ce38a8f2-3de9-4c40-82fc-342cb8528c3e"
      },
      "execution_count": null,
      "outputs": [
        {
          "name": "stdout",
          "output_type": "stream",
          "text": [
            "Informe o nome do aluno: Kayllane\n",
            "Informe a primeira nota: 6\n",
            "Informe a segunda nota: 8\n"
          ]
        }
      ]
    },
    {
      "cell_type": "markdown",
      "source": [
        "# **Lógica (processamento)**"
      ],
      "metadata": {
        "id": "Nm-nCmJwblRd"
      }
    },
    {
      "cell_type": "code",
      "source": [
        "media = (nota1 + nota2) /2\n"
      ],
      "metadata": {
        "id": "pq3V5G-SbsAT"
      },
      "execution_count": null,
      "outputs": []
    },
    {
      "cell_type": "markdown",
      "source": [
        "# **Saída**"
      ],
      "metadata": {
        "id": "HhSRacuCbs5j"
      }
    },
    {
      "cell_type": "code",
      "source": [
        "txt = \"O aluno {} com a primeira nota {} e a segunda nota {} está com a média {}.\"\n",
        "print(txt.format(nome, nota1, nota2, media))\n",
        "\n"
      ],
      "metadata": {
        "colab": {
          "base_uri": "https://localhost:8080/"
        },
        "id": "DKQCnIvhbxAo",
        "outputId": "af63b7cc-a5b6-4df3-c542-987797a70d57"
      },
      "execution_count": null,
      "outputs": [
        {
          "output_type": "stream",
          "name": "stdout",
          "text": [
            "O aluno Kayllane com a primeira nota 6.0 e a segunda nota 8.0 está com a média 7.0.\n"
          ]
        }
      ]
    }
  ]
}