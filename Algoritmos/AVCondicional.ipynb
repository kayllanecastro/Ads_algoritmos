{
  "nbformat": 4,
  "nbformat_minor": 0,
  "metadata": {
    "colab": {
      "provenance": [],
      "authorship_tag": "ABX9TyPjj73LKeKU3N5K207hCuvQ",
      "include_colab_link": true
    },
    "kernelspec": {
      "name": "python3",
      "display_name": "Python 3"
    },
    "language_info": {
      "name": "python"
    }
  },
  "cells": [
    {
      "cell_type": "markdown",
      "metadata": {
        "id": "view-in-github",
        "colab_type": "text"
      },
      "source": [
        "<a href=\"https://colab.research.google.com/github/kayllanecastro/Trabalhos_TADS/blob/main/Algoritmos/AVCondicional.ipynb\" target=\"_parent\"><img src=\"https://colab.research.google.com/assets/colab-badge.svg\" alt=\"Open In Colab\"/></a>"
      ]
    },
    {
      "cell_type": "markdown",
      "source": [
        "### 1) Com base na tabela abaixo, escreva um programa que leia o código de um item e a quantidade deste item. A seguir, calcule e mostre o valor da conta a pagar."
      ],
      "metadata": {
        "id": "HFHwiO8klWyW"
      }
    },
    {
      "cell_type": "code",
      "execution_count": null,
      "metadata": {
        "colab": {
          "base_uri": "https://localhost:8080/"
        },
        "id": "55FX-tmfYewQ",
        "outputId": "1df0915e-ab92-4d64-d7d7-d1b6af373e22"
      },
      "outputs": [
        {
          "name": "stdout",
          "output_type": "stream",
          "text": [
            "Digite o código do item:  3\n",
            "Digite a quantidade:   9\n"
          ]
        }
      ],
      "source": [
        "#Entrada\n",
        "cod = int(input(\"Digite o código do item:  \"))\n",
        "quant = int(input(\"Digite a quantidade:   \"))"
      ]
    },
    {
      "cell_type": "code",
      "source": [
        "#Lógica - calcule e mostre o valor da conta a pagar\n",
        "\n",
        "match cod:\n",
        "\n",
        "  case 1:\n",
        "    item = \"cachorro quente\"\n",
        "    valor = quant * 4.00\n",
        "  case 2:\n",
        "    item = 'X - Salada'\n",
        "    valor = quant * 4.50\n",
        "  case 3:\n",
        "    item = \"X - Bacon\"\n",
        "    valor = quant * 5.00\n",
        "  case 4:\n",
        "    item = 'Torrada Simples'\n",
        "    valor = quant * 2.00\n",
        "  case 5:\n",
        "    item = \"Refrigerante\"\n",
        "    valor = quant * 1.50\n",
        "  case _:\n",
        "    item = \"Código Inválido\"\n",
        "    valor = 0"
      ],
      "metadata": {
        "id": "30FqCggil-N2"
      },
      "execution_count": null,
      "outputs": []
    },
    {
      "cell_type": "code",
      "source": [
        "#Saída\n",
        "print(f'Compra do item \"{item}\" aprovada com sucesso! \\nConta a pagar: {valor} ')"
      ],
      "metadata": {
        "colab": {
          "base_uri": "https://localhost:8080/"
        },
        "id": "So8pN65jn83B",
        "outputId": "b2141b79-b2ae-429c-d00c-73f32675dab3"
      },
      "execution_count": null,
      "outputs": [
        {
          "output_type": "stream",
          "name": "stdout",
          "text": [
            "Compra do item \"X - Bacon\" aprovada com sucesso! \n",
            "Conta a pagar: 45.0 \n"
          ]
        }
      ]
    },
    {
      "cell_type": "markdown",
      "source": [
        "### 2) Faça um algoritmo que seja capaz de informar se um número informado é positivo, negativo ou neutro(zero). Um número é positivo quando ele for maior que ZERO, será negativo quando for menor que ZERO e neutro quando for igual a ZERO.\n"
      ],
      "metadata": {
        "id": "0VhLqAQMk22-"
      }
    },
    {
      "cell_type": "code",
      "source": [
        "#Entrada\n",
        "numero = float(input('Informe um número: '))"
      ],
      "metadata": {
        "colab": {
          "base_uri": "https://localhost:8080/"
        },
        "id": "svcnDpe8lDlZ",
        "outputId": "6871171e-de8e-4d6a-dfeb-e46570c6226c"
      },
      "execution_count": null,
      "outputs": [
        {
          "name": "stdout",
          "output_type": "stream",
          "text": [
            "Informe um número: -1\n"
          ]
        }
      ]
    },
    {
      "cell_type": "code",
      "source": [
        "#Lógica - informar se um número informado é positivo, negativo ou neutro(zero)\n",
        "if numero > 0:\n",
        "  retorno = \"Positivo\"\n",
        "elif numero < 0:\n",
        "  retorno = \"Negativo\"\n",
        "elif numero == 0:\n",
        "  retorno = \"Neutro\""
      ],
      "metadata": {
        "id": "h4Bdf9pVpKQL"
      },
      "execution_count": null,
      "outputs": []
    },
    {
      "cell_type": "code",
      "source": [
        "print(f'O número é: {retorno}')"
      ],
      "metadata": {
        "colab": {
          "base_uri": "https://localhost:8080/"
        },
        "id": "EiniPFLssv_w",
        "outputId": "b82897b3-cae4-484d-a223-0554ad7f9fba"
      },
      "execution_count": null,
      "outputs": [
        {
          "output_type": "stream",
          "name": "stdout",
          "text": [
            "O número é: Negativo\n"
          ]
        }
      ]
    },
    {
      "cell_type": "markdown",
      "source": [
        "### 3) Faça um Programa que leia dois números e imprima o menor deles. Caso os números sejam iguais, informar que os números são iguais."
      ],
      "metadata": {
        "id": "ETmqQ375k8Ay"
      }
    },
    {
      "cell_type": "code",
      "source": [
        "#Entrada\n",
        "num1 = float(input('Digite o primeiro número: '))\n",
        "num2 = float(input('Digite o segundo número: '))"
      ],
      "metadata": {
        "colab": {
          "base_uri": "https://localhost:8080/"
        },
        "id": "bEu-BbUMlEMy",
        "outputId": "ded65016-f1ce-4921-c90f-287f2661ecc3"
      },
      "execution_count": null,
      "outputs": [
        {
          "name": "stdout",
          "output_type": "stream",
          "text": [
            "Digite o primeiro número: 2\n",
            "Digite o segundo número: 3\n"
          ]
        }
      ]
    },
    {
      "cell_type": "code",
      "source": [
        "#Lógica\n",
        "if num1 < num2:\n",
        "  resposta = f'O número \"{num1}\" é o menor valor'\n",
        "elif num1 > num2:\n",
        "  resposta = f'O número \"{num2}\" é o menor valor'\n",
        "elif num1 == num2:\n",
        "  resposta = 'Os números são iguais'"
      ],
      "metadata": {
        "id": "Xq_ITItItSKD"
      },
      "execution_count": null,
      "outputs": []
    },
    {
      "cell_type": "code",
      "source": [
        "#Saida\n",
        "print(resposta)"
      ],
      "metadata": {
        "colab": {
          "base_uri": "https://localhost:8080/"
        },
        "id": "Cdg_J1k4uCRe",
        "outputId": "26f488f1-b5e9-41da-bb48-daf994493769"
      },
      "execution_count": null,
      "outputs": [
        {
          "output_type": "stream",
          "name": "stdout",
          "text": [
            "O número \"2.0\" é o menor valor\n"
          ]
        }
      ]
    },
    {
      "cell_type": "markdown",
      "source": [
        "### 4) Faça um programa que pergunte o preço de três produtos e informe qual produto você não deve comprar, sabendo que a decisão é sempre pelo mais barato."
      ],
      "metadata": {
        "id": "d8AP9FPfuvKD"
      }
    },
    {
      "cell_type": "code",
      "source": [
        "#Entrada\n",
        "produto1 = float(input('Informe o preço do produto 1: '))\n",
        "produto2 = float(input('Informe o preço do produto 2: '))\n",
        "produto3 = float(input('Informe o preço do produto 3: '))"
      ],
      "metadata": {
        "colab": {
          "base_uri": "https://localhost:8080/"
        },
        "id": "6vkNv1THu_ss",
        "outputId": "4cadf4f3-c460-402d-acc7-3a5638b5d87d"
      },
      "execution_count": null,
      "outputs": [
        {
          "name": "stdout",
          "output_type": "stream",
          "text": [
            "Informe o preço do produto 1:4.50\n",
            "Informe o preço do produto 2:2.00\n",
            "Informe o preço do produto 3:3.00\n"
          ]
        }
      ]
    },
    {
      "cell_type": "code",
      "source": [
        "#Lógica\n",
        "if produto1 < produto2 and produto1 < produto3:\n",
        "  resposta = 'O produto 1 é o mais barato'\n",
        "elif produto2 < produto1 and produto2 < produto3:\n",
        "  resposta = 'O produto 2 é o mais barato'\n",
        "elif produto3 < produto1 and produto3 < produto2:\n",
        "  resposta = 'O produto 3 é o mais barato'"
      ],
      "metadata": {
        "id": "n0DQ2kiavX3Y"
      },
      "execution_count": null,
      "outputs": []
    },
    {
      "cell_type": "code",
      "source": [
        "#Saida\n",
        "print(resposta)"
      ],
      "metadata": {
        "colab": {
          "base_uri": "https://localhost:8080/"
        },
        "id": "yfbxYjcLwdg7",
        "outputId": "275db07c-63f5-4e18-f2d6-f3c916faa59b"
      },
      "execution_count": null,
      "outputs": [
        {
          "output_type": "stream",
          "name": "stdout",
          "text": [
            "O produto 2 é o mais barato\n"
          ]
        }
      ]
    },
    {
      "cell_type": "markdown",
      "source": [
        "### 5) A secretaria de Meio Ambiente controla o índice de poluição do estado e emite notificações as indústrias. Caso uma indústria tenha índice de 0,3 ou superior, ela será notificada para reduzir a emissão de poluição. Caso o seu índice seja 0,4 ou mais, a notificação será para suspender suas atividades. Sendo assim, faça um algoritmo que receba o índice de poluição de uma indústria e emita a notificação adequada."
      ],
      "metadata": {
        "id": "eDLJN_jpw_VG"
      }
    },
    {
      "cell_type": "code",
      "source": [
        "#Entrada\n",
        "indice = float(input('Informe o indice de poluição da indústria:  '))"
      ],
      "metadata": {
        "colab": {
          "base_uri": "https://localhost:8080/"
        },
        "id": "0M5kJcvlxRBp",
        "outputId": "9d287ccd-ffb9-4cdd-a484-1e1e4bb31bc8"
      },
      "execution_count": null,
      "outputs": [
        {
          "name": "stdout",
          "output_type": "stream",
          "text": [
            "Informe o indice de poluição da indústria:  0.39\n"
          ]
        }
      ]
    },
    {
      "cell_type": "code",
      "source": [
        "#Lógica\n",
        "if indice >= 0.3 and indice < 0.4:\n",
        "  retorno = \"REDUZA A EMISSÃO DE POLUIÇÃO!!!\"\n",
        "elif indice >= 0.4:\n",
        "   retorno = \"SUSPENDA SUAS ATIVIDADES!!!\"\n",
        "else:\n",
        "   retorno = \"Índice adequado\""
      ],
      "metadata": {
        "id": "DXwBNehDxT_J"
      },
      "execution_count": null,
      "outputs": []
    },
    {
      "cell_type": "code",
      "source": [
        "#Saida\n",
        "print(retorno)"
      ],
      "metadata": {
        "colab": {
          "base_uri": "https://localhost:8080/"
        },
        "id": "8GxwbOxQxWkt",
        "outputId": "86ba4ba2-07e0-4bd0-dc4f-be250dc8205e"
      },
      "execution_count": null,
      "outputs": [
        {
          "output_type": "stream",
          "name": "stdout",
          "text": [
            "REDUZA A EMISSÃO DE POLUIÇÃO!!!\n"
          ]
        }
      ]
    },
    {
      "cell_type": "markdown",
      "source": [
        "### 6) Elabore um algoritmo que calcule o salário total de um trabalhador. Para isso o algoritmo deve solicitar o nome do trabalhador e o número de horas trabalhadas. Um trabalhador ganha R$ 100,00 por hora. Quando o número de horas trabalhadas exceder a 44 horas, o trabalhador terá direito ao pagamento de hora extra. A hora excedente de trabalho vale RS 150,00. Então o algoritmo deve informar o nome do trabalhador, o valor pago de hora extra e o salário final.\n"
      ],
      "metadata": {
        "id": "bDIqyOYRzFPz"
      }
    },
    {
      "cell_type": "code",
      "source": [
        "#Entrada\n",
        "nome = input('Informe o nome do trabalhador:  ')\n",
        "horas_trabalhadas = int(input('Informe o número de horas trabalhadas:  '))\n",
        "valor_hora = 100"
      ],
      "metadata": {
        "colab": {
          "base_uri": "https://localhost:8080/"
        },
        "id": "vkK-lYBOzU-o",
        "outputId": "7b7b29cb-80f4-424d-83d8-958202d5b315"
      },
      "execution_count": null,
      "outputs": [
        {
          "name": "stdout",
          "output_type": "stream",
          "text": [
            "Informe o nome do trabalhador:  Kay\n",
            "Informe o número de horas trabalhadas:  50\n"
          ]
        }
      ]
    },
    {
      "cell_type": "code",
      "source": [
        "#Lógica\n",
        "if horas_trabalhadas > 44:\n",
        "   hora_extra = (horas_trabalhadas - 44) * 150\n",
        "   salario = (valor_hora * 44) + hora_extra\n",
        "else:\n",
        "   hora_extra = 0\n",
        "   salario = valor_hora * 44"
      ],
      "metadata": {
        "id": "CKh9utLgzxuv"
      },
      "execution_count": null,
      "outputs": []
    },
    {
      "cell_type": "code",
      "source": [
        "#Saída\n",
        "print(f'Trabalhador: {nome}\\nHora extra: {hora_extra}\\nSalário final: {salario} ')"
      ],
      "metadata": {
        "colab": {
          "base_uri": "https://localhost:8080/"
        },
        "id": "rCI9jlTVz2xm",
        "outputId": "c7e4adb7-cc04-4c95-acf5-1283bc63e1be"
      },
      "execution_count": null,
      "outputs": [
        {
          "output_type": "stream",
          "name": "stdout",
          "text": [
            "Trabalhador: Kay\n",
            "Hora extra: 900\n",
            "Salário final: 5300 \n"
          ]
        }
      ]
    },
    {
      "cell_type": "markdown",
      "source": [
        "### 7) Neste problema, você deverá ler 3 características que definem o tipo de animal possível segundo o esquema abaixo, da esquerda para a direita.  Em seguida conclua qual dos animais seguintes foi escolhido, através das três características fornecidas."
      ],
      "metadata": {
        "id": "D6BpTt842gsP"
      }
    },
    {
      "cell_type": "code",
      "source": [
        "#Entrada\n",
        "caract1 = input(\"Informe a primeira caracteristica: \")\n",
        "caract2 = input(\"Informe a segunda caracteristica: \")\n",
        "caract3= input('Informe a terceira caracteristica: ')"
      ],
      "metadata": {
        "colab": {
          "base_uri": "https://localhost:8080/"
        },
        "id": "uBSwPz3K2os4",
        "outputId": "749df1e0-b4c4-4400-c04f-125a350db975"
      },
      "execution_count": null,
      "outputs": [
        {
          "name": "stdout",
          "output_type": "stream",
          "text": [
            "Informe a primeira caracteristica: vertebrado\n",
            "Informe a segunda caracteristica: mamifero\n",
            "Informe a terceira caracteristica: onivoro\n"
          ]
        }
      ]
    },
    {
      "cell_type": "code",
      "source": [
        "#Lógica\n",
        "if caract1 == \"vertebrado\" and caract2 == \"ave\" and caract3 == \"carnivoro\":\n",
        "  animal = \"aguia\"\n",
        "elif caract1 == \"vertebrado\" and caract2 == \"ave\" and caract3 == \"onivoro\":\n",
        "  animal = \"pomba\"\n",
        "elif caract1 == \"vertebrado\" and caract2 == \"mamifero\" and caract3 == \"onivoro\":\n",
        "  animal = \"homem\"\n",
        "elif caract1 == \"vertebrado\" and caract2 == \"mamifero\" and caract3 == \"herbivoro\":\n",
        "  animal = \"vaca\"\n",
        "elif caract1 == \"invertebrado\" and caract2 == \"inseto\" and caract3 == \"hematofogo\":\n",
        "  animal = \"pulga\"\n",
        "elif caract1 == \"invertebrado\" and caract2 == \"inseto\" and caract3 == \"herbivoro\":\n",
        "  animal = \"lagarta\"\n",
        "elif caract1 == \"invertebrado\" and caract2 == \"anelideo\" and caract3 == \"hematofogo\":\n",
        "  animal = \"sanguessuga\"\n",
        "elif caract1 == \"invertebrado\" and caract2 == \"anelideo\" and caract3 == \"onivoro\":\n",
        "  animal = \"minhoca\"\n",
        "else:\n",
        "   animal = \"Não existe\"\n"
      ],
      "metadata": {
        "id": "CB0eRNsn4DOv"
      },
      "execution_count": null,
      "outputs": []
    },
    {
      "cell_type": "code",
      "source": [
        "#SAÍDA\n",
        "print(f'Com base nessas três caracteristicas o animal escolhido é: {animal}')"
      ],
      "metadata": {
        "colab": {
          "base_uri": "https://localhost:8080/"
        },
        "id": "91ZRnb0T4Ge4",
        "outputId": "53fb5677-53b0-4a90-b5cb-64c0a4ae6bcf"
      },
      "execution_count": null,
      "outputs": [
        {
          "output_type": "stream",
          "name": "stdout",
          "text": [
            "Com base nessas três caracteristicas o animal escolhido é: homem\n"
          ]
        }
      ]
    }
  ]
}