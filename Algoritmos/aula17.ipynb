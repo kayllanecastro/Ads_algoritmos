{
  "nbformat": 4,
  "nbformat_minor": 0,
  "metadata": {
    "colab": {
      "provenance": [],
      "mount_file_id": "1Q3aNCVw4CwwhVXz7HXO4nhq_WJ0DNNwx",
      "authorship_tag": "ABX9TyMRAJsBa+IiDHT9lQTdhwKz",
      "include_colab_link": true
    },
    "kernelspec": {
      "name": "python3",
      "display_name": "Python 3"
    },
    "language_info": {
      "name": "python"
    }
  },
  "cells": [
    {
      "cell_type": "markdown",
      "metadata": {
        "id": "view-in-github",
        "colab_type": "text"
      },
      "source": [
        "<a href=\"https://colab.research.google.com/github/kayllanecastro/Trabalhos_TADS/blob/main/Algoritmos/aula17.ipynb\" target=\"_parent\"><img src=\"https://colab.research.google.com/assets/colab-badge.svg\" alt=\"Open In Colab\"/></a>"
      ]
    },
    {
      "cell_type": "markdown",
      "source": [
        "### Carrinho de compra"
      ],
      "metadata": {
        "id": "FCrkbw_dtUKR"
      }
    },
    {
      "cell_type": "code",
      "execution_count": null,
      "metadata": {
        "id": "h_dV6mE1qACv",
        "colab": {
          "base_uri": "https://localhost:8080/"
        },
        "outputId": "294d724a-9f5f-4e04-cd6e-ede8e9e03deb"
      },
      "outputs": [
        {
          "output_type": "stream",
          "name": "stdout",
          "text": [
            "Digite o valor na carteira: 40\n",
            "\n",
            "## Iniciar Carrinho ##\n",
            "\n",
            "*Carrinho Aberto*\n",
            "\n",
            "Informe o nome do produto:  b\n",
            "Informe o preço do b:  2\n",
            "\n",
            "O valor parcial do carrinho: R$ 2.0\n",
            "\n",
            "Add novo produto?(s/n): 5\n",
            "## Compras Encerradas ##\n",
            "\n",
            "*Carrinho Fechado*\n",
            "\n",
            "O total das compras é: R$ 2.0\n"
          ]
        }
      ],
      "source": [
        "total_parcial = 0\n",
        "valor = float(input('Digite o valor na carteira: '))\n",
        "\n",
        "print('\\n## Iniciar Carrinho ##\\n')\n",
        "print('*Carrinho Aberto*\\n')\n",
        "\n",
        "while True:\n",
        "#entrada\n",
        "  produto = input('Informe o nome do produto:  ')\n",
        "  preco = float(input(f'Informe o preço do {produto}:  '))\n",
        "\n",
        "#lógica - calcular total parcial\n",
        "  total_parcial += preco\n",
        "  if total_parcial > valor:\n",
        "      print(f'Dinheiro Insuficiente\\n*{produto} removido*')\n",
        "      total_parcial -= preco\n",
        "  elif total_parcial == valor:\n",
        "       print('Você atingiu o limite da carteira\\nEncerre as compras')\n",
        "\n",
        "\n",
        "  print(f'\\nO valor parcial do carrinho: R$ {total_parcial}\\n')\n",
        "  resp = input('Add novo produto?(s/n): ')\n",
        "\n",
        "\n",
        "#momento de parada da repetição\n",
        "  if resp != 's':\n",
        "    break\n",
        "\n",
        "#saída\n",
        "print('## Compras Encerradas ##\\n')\n",
        "print('*Carrinho Fechado*\\n')\n",
        "print(f'O total das compras é: R$ {total_parcial}')"
      ]
    },
    {
      "cell_type": "markdown",
      "source": [
        "### Modificar o algoritmo das Contas para inserir um MENU."
      ],
      "metadata": {
        "id": "YRzIR2eEs5Ro"
      }
    },
    {
      "cell_type": "code",
      "source": [
        "import sys\n",
        "sys.path.append('/content/drive/MyDrive/Ads_algoritmo')\n",
        "from conta import *"
      ],
      "metadata": {
        "id": "WCiUaulHvVh0"
      },
      "execution_count": null,
      "outputs": []
    },
    {
      "cell_type": "code",
      "source": [
        "while True:\n",
        "  print('\\n## MENU ##')\n",
        "  print('1 - Cadastrar Conta')\n",
        "  print('2 - Depositar ')\n",
        "  print('3 - Sacar')\n",
        "  print('4 - Transferir')\n",
        "  print('5 - Saldo')\n",
        "  print('6 - Sair')\n",
        "\n",
        "  op = input('\\nInforme a opção desejada:  ')\n",
        "\n",
        "  match op:\n",
        "    case '1':\n",
        "      tipo = input('\\nQual o tipo da Conta? Corrente (c) ou Poupança (p):  ')\n",
        "      num = input('Informe o nº da conta:  ')\n",
        "      criar_conta(tipo,num,0)\n",
        "\n",
        "    case '2':\n",
        "      tipo = input('\\nQual o tipo da Conta? Corrente (c) ou Poupança (p):  ')\n",
        "      valor = float(input('Informe o valor para depositar:  '))\n",
        "      creditar(tipo, valor)\n",
        "\n",
        "    case '3':\n",
        "      tipo = input('\\nQual o tipo da Conta? Corrente (c) ou Poupança (p):  ')\n",
        "      valor = float(input('Informe o valor para sacar:  '))\n",
        "      debitar(tipo, valor)\n",
        "\n",
        "    case '4':\n",
        "      origem = input('\\nQual o tipo da conta de origem? Corrente (c) ou Poupança (p):  ')\n",
        "      destino = input('Qual o tipo da conta de destino? Corrente (c) ou Poupança (p):  ')\n",
        "      valor = float(input('Informe o valor da transferência:  '))\n",
        "      transferir(origem,destino,valor)\n",
        "\n",
        "    case '5':\n",
        "      print(saldo())\n",
        "\n",
        "    case '6':\n",
        "      break"
      ],
      "metadata": {
        "id": "a_g4FzqOy3LL"
      },
      "execution_count": null,
      "outputs": []
    }
  ]
}