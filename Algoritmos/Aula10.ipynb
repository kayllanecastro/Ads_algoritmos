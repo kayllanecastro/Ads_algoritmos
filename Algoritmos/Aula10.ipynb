{
  "nbformat": 4,
  "nbformat_minor": 0,
  "metadata": {
    "colab": {
      "provenance": [],
      "include_colab_link": true
    },
    "kernelspec": {
      "name": "python3",
      "display_name": "Python 3"
    },
    "language_info": {
      "name": "python"
    }
  },
  "cells": [
    {
      "cell_type": "markdown",
      "metadata": {
        "id": "view-in-github",
        "colab_type": "text"
      },
      "source": [
        "<a href=\"https://colab.research.google.com/github/kayllanecastro/Trabalhos_TADS/blob/main/Algoritmos/Aula10.ipynb\" target=\"_parent\"><img src=\"https://colab.research.google.com/assets/colab-badge.svg\" alt=\"Open In Colab\"/></a>"
      ]
    },
    {
      "cell_type": "markdown",
      "source": [
        "# Modularização - Funções e Procedimentos"
      ],
      "metadata": {
        "id": "z4VA3zQSDMnp"
      }
    },
    {
      "cell_type": "markdown",
      "source": [
        "Operações de Soma, Subtração, Divisão e Multiplicação  "
      ],
      "metadata": {
        "id": "1rCDecadSuaT"
      }
    },
    {
      "cell_type": "code",
      "source": [
        "def validar(operacao, num1, num2):\n",
        "    if num1 > 0 and num2 > 0:\n",
        "        if operacao == 'divisao':\n",
        "            if num2 != 0:\n",
        "                return True\n",
        "            else:\n",
        "                return False\n",
        "        return True\n",
        "    else:\n",
        "        return False\n",
        "\n",
        "def somar(num1, num2):\n",
        "  if validar('soma', num1, num2):\n",
        "\n",
        "    return num1 + num2\n",
        "\n",
        "def diminuir(num1, num2):\n",
        "  if validar('diminuir', num1, num2):\n",
        "\n",
        "    return num1 - num2\n",
        "\n",
        "def multiplicar(num1, num2):\n",
        "  if validar('multiplicar', num1, num2):\n",
        "\n",
        "    return num1 * num2\n",
        "\n",
        "def divisao(num1, num2):\n",
        "  if validar('divisao', num1, num2):\n",
        "\n",
        "    return num1 / num2"
      ],
      "metadata": {
        "id": "AhfDxbB7eftw"
      },
      "execution_count": null,
      "outputs": []
    },
    {
      "cell_type": "code",
      "execution_count": null,
      "metadata": {
        "colab": {
          "base_uri": "https://localhost:8080/"
        },
        "id": "JJ0Gww-LDLP_",
        "outputId": "ebbb7241-be88-4ef5-ddf8-c344b39fe3f6"
      },
      "outputs": [
        {
          "output_type": "stream",
          "name": "stdout",
          "text": [
            "## Números ##\n",
            "Informe o 1º número: 2000\n",
            "Informe o 2º número: 20\n",
            "## Operações ##\n",
            "1-Soma\n",
            "2-Subtrair\n",
            "3-Multiplicar\n",
            "4-Divisao\n",
            "Qual operação deseja?:  4\n",
            "O resultado da operação é: 100.0\n"
          ]
        }
      ],
      "source": [
        "#Entrada\n",
        "print('## Números ##')\n",
        "num1 = int(input('Informe o 1º número: '))\n",
        "num2 = int(input('Informe o 2º número: '))\n",
        "\n",
        "print(\"## Operações ##\")\n",
        "print('1-Soma\\n2-Subtrair\\n3-Multiplicar\\n4-Divisao')\n",
        "op = input('Qual operação deseja?:  ')\n",
        "\n",
        "#Processamento\n",
        "match op:\n",
        "   case \"1\":\n",
        "    result = somar(num1, num2)\n",
        "   case \"2\":\n",
        "    result = diminuir(num1, num2)\n",
        "   case \"3\":\n",
        "    result = multiplicar(num1, num2)\n",
        "   case \"4\":\n",
        "    result = divisao(num1, num2)\n",
        "   case _:\n",
        "    result = \"Erro!\"\n",
        "\n",
        "\n",
        "#Saída\n",
        "print(f'O resultado da operação é: {result}')"
      ]
    }
  ]
}