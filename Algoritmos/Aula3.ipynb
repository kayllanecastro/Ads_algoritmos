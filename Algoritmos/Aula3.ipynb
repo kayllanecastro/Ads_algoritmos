{
  "nbformat": 4,
  "nbformat_minor": 0,
  "metadata": {
    "colab": {
      "provenance": [],
      "include_colab_link": true
    },
    "kernelspec": {
      "name": "python3",
      "display_name": "Python 3"
    },
    "language_info": {
      "name": "python"
    }
  },
  "cells": [
    {
      "cell_type": "markdown",
      "metadata": {
        "id": "view-in-github",
        "colab_type": "text"
      },
      "source": [
        "<a href=\"https://colab.research.google.com/github/kayllanecastro/Trabalhos_TADS/blob/main/Algoritmos/Aula3.ipynb\" target=\"_parent\"><img src=\"https://colab.research.google.com/assets/colab-badge.svg\" alt=\"Open In Colab\"/></a>"
      ]
    },
    {
      "cell_type": "markdown",
      "source": [
        "### 1) Crie um algoritmo que receba dois números inteiros e mostre o resultado para as 4 operações básicas: Soma, Subtração, Multiplicação e Divisão. Por exemplo: Caso os números sejam 2 e 3, o algoritmo deve exibir Soma = 5 , Subtração = -1 , Multiplicação = 6 , Divisão = 0.66"
      ],
      "metadata": {
        "id": "c2Y-JSudI2ky"
      }
    },
    {
      "cell_type": "markdown",
      "source": [
        "**Entrada**"
      ],
      "metadata": {
        "id": "PDNPiDD5JlkH"
      }
    },
    {
      "cell_type": "code",
      "source": [
        "num1 = int(input(\"Digite o primeiro número: \"))\n",
        "num2 = int(input(\"Digite o segundo número: \"))"
      ],
      "metadata": {
        "colab": {
          "base_uri": "https://localhost:8080/"
        },
        "id": "HdphFsLqKO9S",
        "outputId": "fa9c236a-6134-47af-f38c-5ab2f56e99d0"
      },
      "execution_count": null,
      "outputs": [
        {
          "name": "stdout",
          "output_type": "stream",
          "text": [
            "Digite o primeiro número: 2\n",
            "Digite o segundo número: 1\n"
          ]
        }
      ]
    },
    {
      "cell_type": "markdown",
      "source": [
        "**Lógica**"
      ],
      "metadata": {
        "id": "if9m3SGIJm2T"
      }
    },
    {
      "cell_type": "code",
      "source": [
        "soma = num1 + num2\n",
        "subtr = num1 - num2\n",
        "multi = num1 * num2\n",
        "div = num1 / num2"
      ],
      "metadata": {
        "id": "L2q9eY77KQFm"
      },
      "execution_count": null,
      "outputs": []
    },
    {
      "cell_type": "markdown",
      "source": [
        "**Saída**"
      ],
      "metadata": {
        "id": "VQnsLaOZJngQ"
      }
    },
    {
      "cell_type": "code",
      "source": [
        "print(f'Soma = {soma} , Subtração = {subtr} , Multiplicação = {multi} , Divisão = {round(div, 3)}')"
      ],
      "metadata": {
        "colab": {
          "base_uri": "https://localhost:8080/"
        },
        "id": "fYvhXuqcKRJA",
        "outputId": "30431257-7318-4a12-d786-ce5dac72d063"
      },
      "execution_count": null,
      "outputs": [
        {
          "output_type": "stream",
          "name": "stdout",
          "text": [
            "Soma = 3 , Subtração = 1 , Multiplicação = 2 , Divisão = 2.0\n"
          ]
        }
      ]
    },
    {
      "cell_type": "markdown",
      "source": [
        "### 2) Faça um algoritmo que calcule a idade de uma pessoa. Seu algoritmo deve armazenar o nome, ano de nascimento e ano atual."
      ],
      "metadata": {
        "id": "kKj30lKwJIE5"
      }
    },
    {
      "cell_type": "markdown",
      "source": [
        "**Entrada**"
      ],
      "metadata": {
        "id": "ZZrs_dSEJyuF"
      }
    },
    {
      "cell_type": "code",
      "source": [
        "nome = input(\"Digite o seu nome: \")\n",
        "ano_nasc = int(input(\"Digite o ano de nascimento: \"))\n",
        "ano_atual = int(input(\"Digite o ano atual: \"))"
      ],
      "metadata": {
        "colab": {
          "base_uri": "https://localhost:8080/"
        },
        "id": "7ksSrsMaNABE",
        "outputId": "7e3809c6-c878-4cd6-b6f9-61b03d86a62b"
      },
      "execution_count": null,
      "outputs": [
        {
          "name": "stdout",
          "output_type": "stream",
          "text": [
            "Digite o seu nome: Kay\n",
            "Digite o ano de nascimento: 2002\n",
            "Digite o ano atual: 2024\n"
          ]
        }
      ]
    },
    {
      "cell_type": "markdown",
      "source": [
        "**Lógica**"
      ],
      "metadata": {
        "id": "BrNhiIGdJyTg"
      }
    },
    {
      "cell_type": "code",
      "source": [
        "idade = ano_atual - ano_nasc"
      ],
      "metadata": {
        "id": "WuzwWZFWNK8d"
      },
      "execution_count": null,
      "outputs": []
    },
    {
      "cell_type": "markdown",
      "source": [
        "**Saída**"
      ],
      "metadata": {
        "id": "VLjUgDWTJyI1"
      }
    },
    {
      "cell_type": "code",
      "source": [
        "print(f\"{nome}, você tem {idade} anos.\")"
      ],
      "metadata": {
        "colab": {
          "base_uri": "https://localhost:8080/"
        },
        "id": "65vNbXywNc87",
        "outputId": "bee27387-5184-4bec-9d1f-e7a389835fa2"
      },
      "execution_count": null,
      "outputs": [
        {
          "output_type": "stream",
          "name": "stdout",
          "text": [
            "Kay, você tem 22 anos.\n"
          ]
        }
      ]
    },
    {
      "cell_type": "markdown",
      "source": [
        "### 3) Sabendo que o carro do Tigas rodou 545km em 4h, qual a velocidade média que ele andava? Seu algoritmo deve calcular a velocidade média do carro. Pesquisa na internet a fórmula para calcular a velocidade média."
      ],
      "metadata": {
        "id": "eY0_CUI-JWlX"
      }
    },
    {
      "cell_type": "markdown",
      "source": [
        "**Entrada**"
      ],
      "metadata": {
        "id": "UezuN6OxKB4W"
      }
    },
    {
      "cell_type": "code",
      "source": [
        "distancia= int(input(\"Digite a distância percorrida: \"))\n",
        "tempo= int(input(\"Digite o tempo que levou: \"))"
      ],
      "metadata": {
        "colab": {
          "base_uri": "https://localhost:8080/"
        },
        "id": "KEsvuyOEOu34",
        "outputId": "203c135d-03eb-41e8-8494-feaedadbd120"
      },
      "execution_count": null,
      "outputs": [
        {
          "name": "stdout",
          "output_type": "stream",
          "text": [
            "Digite a distância percorrida: 545\n",
            "Digite o tempo que levou: 4\n"
          ]
        }
      ]
    },
    {
      "cell_type": "markdown",
      "source": [
        "**Lógica**"
      ],
      "metadata": {
        "id": "jzuRXXooKBhx"
      }
    },
    {
      "cell_type": "code",
      "source": [
        "veloc_med = distancia / tempo"
      ],
      "metadata": {
        "id": "kolRFvuVOw4u"
      },
      "execution_count": null,
      "outputs": []
    },
    {
      "cell_type": "markdown",
      "source": [
        "**Saída**"
      ],
      "metadata": {
        "id": "5RAjdxTnKBEb"
      }
    },
    {
      "cell_type": "code",
      "source": [
        "print(f'A velocidade média que Tigas andava era de {veloc_med} m/s ')"
      ],
      "metadata": {
        "colab": {
          "base_uri": "https://localhost:8080/"
        },
        "id": "PfVeWZoHOyDe",
        "outputId": "a0b2f076-6931-4bb4-b5c3-20ba6575ea70"
      },
      "execution_count": null,
      "outputs": [
        {
          "output_type": "stream",
          "name": "stdout",
          "text": [
            "A velocidade média que Tigas andava era de 136.25 m/s \n"
          ]
        }
      ]
    },
    {
      "cell_type": "markdown",
      "source": [
        "### 4) Um restaurante cobra R$12,00 por cada quilo de refeição. Escreva um algoritmo que leia o peso do prato montado pelo cliente (em quilos) e imprima o valor a pagar."
      ],
      "metadata": {
        "id": "zbysdheCSWlA"
      }
    },
    {
      "cell_type": "markdown",
      "source": [
        "**Entrada**"
      ],
      "metadata": {
        "id": "siPbnzGNSdpP"
      }
    },
    {
      "cell_type": "code",
      "source": [
        "precokg = 12.00\n",
        "peso = float(input('Informe o peso(kg) do prato montado pelo cliente: '))"
      ],
      "metadata": {
        "colab": {
          "base_uri": "https://localhost:8080/"
        },
        "id": "nNjL7ASVSefX",
        "outputId": "ae44e8bb-4223-4c84-9933-6fb570eef0df"
      },
      "execution_count": null,
      "outputs": [
        {
          "name": "stdout",
          "output_type": "stream",
          "text": [
            "Informe o peso(kg) do prato montado pelo cliente: 1\n"
          ]
        }
      ]
    },
    {
      "cell_type": "markdown",
      "source": [
        "**Lógica**"
      ],
      "metadata": {
        "id": "iriClGfYSfVV"
      }
    },
    {
      "cell_type": "code",
      "source": [
        "valor= peso * precokg"
      ],
      "metadata": {
        "id": "6q4xuLLLSgLy"
      },
      "execution_count": null,
      "outputs": []
    },
    {
      "cell_type": "markdown",
      "source": [
        "**Saída**"
      ],
      "metadata": {
        "id": "tyCViHNTShDw"
      }
    },
    {
      "cell_type": "code",
      "source": [
        "print(f'O valor a pagar é {valor}')"
      ],
      "metadata": {
        "colab": {
          "base_uri": "https://localhost:8080/"
        },
        "id": "FpIwNNmzSh0k",
        "outputId": "6ac20cd5-d260-4188-a19a-978a3ba1f79a"
      },
      "execution_count": null,
      "outputs": [
        {
          "output_type": "stream",
          "name": "stdout",
          "text": [
            "O valor a pagar é 12.0\n"
          ]
        }
      ]
    },
    {
      "cell_type": "markdown",
      "source": [
        "### 5)Dias vividos. Escreva um algoritmo para ler o nome e a idade de uma pessoa, e exibir quantos dias de vida ela possui. Considere sempre anos completos, e que um ano possui 365 dias. Ex: uma pessoa com 19 anos possui 6935 dias de vida; veja um exemplo de saída: MARIA, VOCÊ JÁ VIVEU 6935 DIAS."
      ],
      "metadata": {
        "id": "acnY06uhTQew"
      }
    },
    {
      "cell_type": "markdown",
      "source": [
        "**Entrada**"
      ],
      "metadata": {
        "id": "6y6pQ4d6ZFyO"
      }
    },
    {
      "cell_type": "code",
      "source": [
        "nome = input(\"Informe o seu nome: \")\n",
        "idade = int(input(\"Informe a sua idade: \"))\n",
        "ano = 365"
      ],
      "metadata": {
        "colab": {
          "base_uri": "https://localhost:8080/"
        },
        "id": "3QffVNq6ZSw7",
        "outputId": "1422ac88-0aa9-4844-93cd-4f611f825b73"
      },
      "execution_count": null,
      "outputs": [
        {
          "name": "stdout",
          "output_type": "stream",
          "text": [
            "Informe o seu nome: MARIA\n",
            "Informe a sua idade: 19\n"
          ]
        }
      ]
    },
    {
      "cell_type": "markdown",
      "source": [
        "**Lógica**"
      ],
      "metadata": {
        "id": "XcE2ejXhZFSo"
      }
    },
    {
      "cell_type": "code",
      "source": [
        "diasvida = idade * ano"
      ],
      "metadata": {
        "id": "FpfkKmmKZR_e"
      },
      "execution_count": null,
      "outputs": []
    },
    {
      "cell_type": "markdown",
      "source": [
        "**Saída**"
      ],
      "metadata": {
        "id": "3CQ1hyqFZEjJ"
      }
    },
    {
      "cell_type": "code",
      "source": [
        "print(f'{nome}, VOCÊ JÁ VIVEU {diasvida} DIAS.')"
      ],
      "metadata": {
        "colab": {
          "base_uri": "https://localhost:8080/"
        },
        "id": "ST58vO8UZRLn",
        "outputId": "d0c4c6da-7ab8-4b73-cea4-1022639ee6e3"
      },
      "execution_count": null,
      "outputs": [
        {
          "output_type": "stream",
          "name": "stdout",
          "text": [
            "MARIA, VOCÊ JÁ VIVEU 6935 DIAS.\n"
          ]
        }
      ]
    },
    {
      "cell_type": "markdown",
      "source": [
        "### 6) Valor em caixa da padaria. A padaria PãoDoce vende uma certa quantidade de pães franceses e uma quantidade de broas a cada dia. Cada pãozinho custa RS 0,12 e a broa custa R$ 1,50. Ao final do dia, o dono quer saber quanto arrecadou com a venda dos pães e broas (juntos). Você foi contratado para fazer os cálculos para o dono. Faça um algoritmo para ler as quantidades de pães e de broas, e depois calcule quanto foi arrecadado com as vendas."
      ],
      "metadata": {
        "id": "o8EVZbIxTSjN"
      }
    },
    {
      "cell_type": "markdown",
      "source": [
        "**Entrada**"
      ],
      "metadata": {
        "id": "GzPlYtFJc0Uf"
      }
    },
    {
      "cell_type": "code",
      "source": [
        "paes = int(input('Informe a quantidade de pães vendidos: '))\n",
        "broas = int(input('Informe a quantidade de broas vendidos: '))\n",
        "valor_p = 0.12\n",
        "valor_b = 1.50"
      ],
      "metadata": {
        "colab": {
          "base_uri": "https://localhost:8080/"
        },
        "id": "0Ecunkktc-yw",
        "outputId": "39cb1436-d603-4e76-d1b1-dc1db29c424a"
      },
      "execution_count": null,
      "outputs": [
        {
          "name": "stdout",
          "output_type": "stream",
          "text": [
            "Informe a quantidade de pães vendidos: 10\n",
            "Informe a quantidade de broas vendidos: 9\n"
          ]
        }
      ]
    },
    {
      "cell_type": "markdown",
      "source": [
        "**Lógica**"
      ],
      "metadata": {
        "id": "GD9uGFSdc0B-"
      }
    },
    {
      "cell_type": "code",
      "source": [
        "totalvend = (valor_p * paes) + (valor_b * broas)"
      ],
      "metadata": {
        "id": "I8w2VA6IdAdV"
      },
      "execution_count": null,
      "outputs": []
    },
    {
      "cell_type": "markdown",
      "source": [
        "**Saída**"
      ],
      "metadata": {
        "id": "oI2zpEnmczrR"
      }
    },
    {
      "cell_type": "code",
      "source": [
        "print(f'Foi arrecadado {totalvend} reais com a venda de {paes} pães e {broas} broas')"
      ],
      "metadata": {
        "colab": {
          "base_uri": "https://localhost:8080/"
        },
        "id": "z8ymGo8QdBYX",
        "outputId": "41822f07-6332-451b-d6a8-ea0400ed58a8"
      },
      "execution_count": null,
      "outputs": [
        {
          "output_type": "stream",
          "name": "stdout",
          "text": [
            "Foi arrecadado 14.7 reais com a venda de 10 pães e 9 broas\n"
          ]
        }
      ]
    },
    {
      "cell_type": "markdown",
      "source": [
        "### 7) Litros de gasolina. Um motorista deseja abastecer seu veículo com gasolina. Escreva um algoritmo para ler o preço do litro da gasolina e o valor do pagamento, e exibir quantos litros ele conseguiu colocar no tanque."
      ],
      "metadata": {
        "id": "CmXQsw7tTTae"
      }
    },
    {
      "cell_type": "markdown",
      "source": [
        "**Entrada**"
      ],
      "metadata": {
        "id": "4a7P62WkLNwg"
      }
    },
    {
      "cell_type": "code",
      "source": [
        "preco_litro = float(input('Informe o preço da gasolina: '))\n",
        "valorpag = float(input('Informe o valor do pagamento: '))"
      ],
      "metadata": {
        "colab": {
          "base_uri": "https://localhost:8080/"
        },
        "id": "if99BG4OLOsa",
        "outputId": "e2adefad-e3e0-4dc1-d06b-d7d5abf2a55a"
      },
      "execution_count": null,
      "outputs": [
        {
          "name": "stdout",
          "output_type": "stream",
          "text": [
            "Informe o preço da gasolina: 7\n",
            "Informe o valor do pagamento: 50\n"
          ]
        }
      ]
    },
    {
      "cell_type": "markdown",
      "source": [
        "**Lógica**"
      ],
      "metadata": {
        "id": "jYkTYOLjLPl7"
      }
    },
    {
      "cell_type": "code",
      "source": [
        "litros = valorpag / preco_litro"
      ],
      "metadata": {
        "id": "Mr2MYToXLQWf"
      },
      "execution_count": null,
      "outputs": []
    },
    {
      "cell_type": "markdown",
      "source": [
        "**Saída**"
      ],
      "metadata": {
        "id": "IS3Twx6iLRwg"
      }
    },
    {
      "cell_type": "code",
      "source": [
        "print(f'Você abasteceu com {round(litros, 2)} litros')"
      ],
      "metadata": {
        "colab": {
          "base_uri": "https://localhost:8080/"
        },
        "id": "byc92sr_LSx8",
        "outputId": "09def96b-2e9a-4793-c28f-2ef43d6b856a"
      },
      "execution_count": null,
      "outputs": [
        {
          "output_type": "stream",
          "name": "stdout",
          "text": [
            "Você abasteceu com 7.14 litros\n"
          ]
        }
      ]
    },
    {
      "cell_type": "markdown",
      "source": [
        "### 8)Salário. Escreva um algoritmo que leia o nome de um funcionário, o número de horas trabalhadas e calcula o salário desse funcionário. Sabendo que a hora trabalhada custa R$ 120,00."
      ],
      "metadata": {
        "id": "YrFrRXtjTUMg"
      }
    },
    {
      "cell_type": "markdown",
      "source": [
        "**Entrada**"
      ],
      "metadata": {
        "id": "ChMweS-tMLmZ"
      }
    },
    {
      "cell_type": "code",
      "source": [
        "nome = input(\"Digite o nome do funcionário: \")\n",
        "horastrab = int(input(\"Digite o número de horas trabalhadas: \"))\n",
        "valorhora = 120"
      ],
      "metadata": {
        "colab": {
          "base_uri": "https://localhost:8080/"
        },
        "id": "ThmvKWeSMM0W",
        "outputId": "2dba386a-371c-44c4-bd09-9b0815070228"
      },
      "execution_count": null,
      "outputs": [
        {
          "name": "stdout",
          "output_type": "stream",
          "text": [
            "Digite o nome do funcionário: Kay\n",
            "Digite o número de horas trabalhadas: 24\n"
          ]
        }
      ]
    },
    {
      "cell_type": "markdown",
      "source": [
        "**Lógica**"
      ],
      "metadata": {
        "id": "ggufSy08MN58"
      }
    },
    {
      "cell_type": "code",
      "source": [
        "salario = horastrab * valorhora"
      ],
      "metadata": {
        "id": "iiBZHvs4MPp5"
      },
      "execution_count": null,
      "outputs": []
    },
    {
      "cell_type": "markdown",
      "source": [
        "**Saída**"
      ],
      "metadata": {
        "id": "KMFrKxc7MR1K"
      }
    },
    {
      "cell_type": "code",
      "source": [
        "print(f\"O salário de {nome} é R$ {salario}\")"
      ],
      "metadata": {
        "colab": {
          "base_uri": "https://localhost:8080/"
        },
        "id": "FQ-VNLHIMTzZ",
        "outputId": "28e5c198-0ea2-4285-867a-f4ce84737498"
      },
      "execution_count": null,
      "outputs": [
        {
          "output_type": "stream",
          "name": "stdout",
          "text": [
            "O salário de Kay é R$ 2880\n"
          ]
        }
      ]
    },
    {
      "cell_type": "markdown",
      "source": [
        "### 9) TigasTur. A TigasTur é empresa consolidada no ramo de viagens turísticas. A empresa gostaria que você criasse um algoritmo para calcular o valor da viagem para cada turista e o valor total que a TisgaTur receberá com uma viagem. Cada km percorrido de uma viagem custa R$0,50 centavos para cada passageiro. Portanto, seu algoritmo deve cadastrar os seguintes dados: Cidade de Origem, Cidade de Destino, Distância percorrida e Quantidade de passageiros.   "
      ],
      "metadata": {
        "id": "Z4G26P8dTVBw"
      }
    },
    {
      "cell_type": "markdown",
      "source": [
        "**Entrada**"
      ],
      "metadata": {
        "id": "-JSedf_8Q5E0"
      }
    },
    {
      "cell_type": "code",
      "source": [
        "origem = input(\"Digite a cidade de origem: \")\n",
        "destino = input(\"Digite a cidade de destino: \")\n",
        "distancia = float(input(\"Digite a distância percorrida (em km): \"))\n",
        "quant = int(input(\"Digite a quantidade de passageiros: \"))\n",
        "custokm = 0.50"
      ],
      "metadata": {
        "colab": {
          "base_uri": "https://localhost:8080/"
        },
        "id": "H1WWoFC8Q5z-",
        "outputId": "e77d34e6-9745-4bb8-b99d-017b7ae3d518"
      },
      "execution_count": null,
      "outputs": [
        {
          "name": "stdout",
          "output_type": "stream",
          "text": [
            "Digite a cidade de origem: Rege\n",
            "Digite a cidade de destino: Parnaiba\n",
            "Digite a distância percorrida (em km): 2000\n",
            "Digite a quantidade de passageiros: 40\n"
          ]
        }
      ]
    },
    {
      "cell_type": "markdown",
      "source": [
        "**Lógica**"
      ],
      "metadata": {
        "id": "_qvMm_pnQ6bI"
      }
    },
    {
      "cell_type": "code",
      "source": [
        "valor_viagem = distancia * custokm\n",
        "valor_total = valor_viagem * quant"
      ],
      "metadata": {
        "id": "2BJ9YC6UQ7HQ"
      },
      "execution_count": null,
      "outputs": []
    },
    {
      "cell_type": "markdown",
      "source": [
        "**Saída**"
      ],
      "metadata": {
        "id": "I_bZdVK3Q7r5"
      }
    },
    {
      "cell_type": "code",
      "source": [
        "print(f\"A viagem de {origem} à {destino} custará para cada turista R$ {valor_viagem}n\\ o valor total que a TisgaTur receberá com uma viagem será de R$ {valor_total}\")"
      ],
      "metadata": {
        "colab": {
          "base_uri": "https://localhost:8080/"
        },
        "id": "0JdQah_wQ8-q",
        "outputId": "c7a90928-8599-4a4b-8c17-54800dede866"
      },
      "execution_count": null,
      "outputs": [
        {
          "output_type": "stream",
          "name": "stdout",
          "text": [
            "A viagem de Rege à Parnaiba custará para cada turista R$ 1000.0n\\ o valor total que a TisgaTur receberá com uma viagem será de R$ 40000.0\n"
          ]
        }
      ]
    },
    {
      "cell_type": "markdown",
      "source": [
        "### 10)Valor total das Camisas. Uma fábrica de camisetas produz os tamanhos pequeno, médio e grande, cada uma sendo vendida respectivamente por 10, 12 e 15 reais. Construa um algoritmo em que o usuário forneça a quantidade de camisetas pequenas, médias e grandes referentes a uma venda, e o algoritmo informe quanto será o valor arrecadado.\n"
      ],
      "metadata": {
        "id": "8KaHyuuTTVzh"
      }
    },
    {
      "cell_type": "markdown",
      "source": [
        "**Entrada**"
      ],
      "metadata": {
        "id": "ykz2wjshVZrv"
      }
    },
    {
      "cell_type": "code",
      "source": [
        "quantpequenas = int(input(\"Digite a quantidade de camisetas pequenas: \"))\n",
        "quantmedias = int(input(\"Digite a quantidade de camisetas médias: \"))\n",
        "quantgrandes = int(input(\"Digite a quantidade de camisetas grandes: \"))"
      ],
      "metadata": {
        "colab": {
          "base_uri": "https://localhost:8080/"
        },
        "id": "SCExhanpVaYi",
        "outputId": "bbed5792-fd5c-48db-ad00-0857ee972093"
      },
      "execution_count": null,
      "outputs": [
        {
          "name": "stdout",
          "output_type": "stream",
          "text": [
            "Digite a quantidade de camisetas pequenas: 10\n",
            "Digite a quantidade de camisetas médias: 15\n",
            "Digite a quantidade de camisetas grandes: 5\n"
          ]
        }
      ]
    },
    {
      "cell_type": "markdown",
      "source": [
        "**Lógica**"
      ],
      "metadata": {
        "id": "FNytf4vnVbEW"
      }
    },
    {
      "cell_type": "code",
      "source": [
        "valor_total = (quantpequenas * 10) + (quantmedias * 12) + (quantgrandes * 15)"
      ],
      "metadata": {
        "id": "E-4bSCA1VbvN"
      },
      "execution_count": null,
      "outputs": []
    },
    {
      "cell_type": "markdown",
      "source": [
        "**Saída**"
      ],
      "metadata": {
        "id": "BlarlmkCVchJ"
      }
    },
    {
      "cell_type": "code",
      "source": [
        "print(f\"O valor arrecadado será {valor_total} reais\")"
      ],
      "metadata": {
        "colab": {
          "base_uri": "https://localhost:8080/"
        },
        "id": "wcl-2a9JVdhr",
        "outputId": "d8ed6dcf-7c89-4473-91e8-547088c40671"
      },
      "execution_count": null,
      "outputs": [
        {
          "output_type": "stream",
          "name": "stdout",
          "text": [
            "O valor arrecadado será 355 reais\n"
          ]
        }
      ]
    }
  ]
}