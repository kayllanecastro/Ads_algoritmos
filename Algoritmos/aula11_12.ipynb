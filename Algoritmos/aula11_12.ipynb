{
  "nbformat": 4,
  "nbformat_minor": 0,
  "metadata": {
    "colab": {
      "provenance": [],
      "collapsed_sections": [
        "8pF57hqH6_TS",
        "HXYOz_gSxwAn"
      ],
      "authorship_tag": "ABX9TyNSVZ4EXazp/jKxLfoFo0Lk",
      "include_colab_link": true
    },
    "kernelspec": {
      "name": "python3",
      "display_name": "Python 3"
    },
    "language_info": {
      "name": "python"
    }
  },
  "cells": [
    {
      "cell_type": "markdown",
      "metadata": {
        "id": "view-in-github",
        "colab_type": "text"
      },
      "source": [
        "<a href=\"https://colab.research.google.com/github/kayllanecastro/Trabalhos_TADS/blob/main/Algoritmos/aula11_12.ipynb\" target=\"_parent\"><img src=\"https://colab.research.google.com/assets/colab-badge.svg\" alt=\"Open In Colab\"/></a>"
      ]
    },
    {
      "cell_type": "markdown",
      "source": [
        "### Imagine que você está desenvolvendo um pequeno sistema para gerenciar contas bancárias.\n",
        "\n",
        "```\n",
        "Defina uma função para criar uma nova conta bancária: nº da conta e saldo.\n",
        "\n",
        "Defina uma função para depositar dinheiro em uma conta.\n",
        "\n",
        "Defina uma função para sacar dinheiro de uma conta.\n",
        "\n",
        "Definição uma função para exibir o saldo de uma conta.\n",
        "```\n",
        "\n",
        "\n"
      ],
      "metadata": {
        "id": "8pF57hqH6_TS"
      }
    },
    {
      "cell_type": "code",
      "source": [
        "def criar_conta(num, saldo):\n",
        "  num_conta = num\n",
        "  saldo_conta = saldo\n",
        "\n",
        "  print(f'A conta foi criada com o número {num_conta} e com saldo inicial R$ {saldo_conta}')\n",
        "\n",
        "def depositar(valor):\n",
        "  global saldo_conta\n",
        "  saldo_conta = saldo_conta + valor\n",
        "\n",
        "def sacar(valor):\n",
        "  global saldo_conta\n",
        "  saldo_conta = saldo_conta - valor\n",
        "\n",
        "def saldo():\n",
        "   print(f'O saldo atual da conta é {saldo_conta}')"
      ],
      "metadata": {
        "id": "bGL3Ri_Ov7Tk"
      },
      "execution_count": null,
      "outputs": []
    },
    {
      "cell_type": "code",
      "source": [
        "#MAIN\n",
        "num_conta = 0\n",
        "saldo_conta = 0\n",
        "\n",
        "#Conta\n",
        "criar_conta('1212A', 1000)\n",
        "\n",
        "#Depositar\n",
        "depositar(2200)\n",
        "\n",
        "#Sacar\n",
        "sacar(198)\n",
        "\n",
        "#Ver Saldo\n",
        "saldo()"
      ],
      "metadata": {
        "id": "N3bbB9sm6rTa",
        "colab": {
          "base_uri": "https://localhost:8080/"
        },
        "outputId": "b3ac7021-f832-4168-dbb4-06dd8c311813"
      },
      "execution_count": null,
      "outputs": [
        {
          "output_type": "stream",
          "name": "stdout",
          "text": [
            "A conta foi criada com o número 1212A e com saldo inicial R$ 1000\n",
            "O saldo atual da conta é 2002\n"
          ]
        }
      ]
    },
    {
      "cell_type": "markdown",
      "source": [
        "### **Aula 12**"
      ],
      "metadata": {
        "id": "HXYOz_gSxwAn"
      }
    },
    {
      "cell_type": "markdown",
      "source": [
        "Você deve add as seguintes regras ao algoritmo de gerenciamento de contas bancárias:\n",
        "\n",
        "* Não deve-se permitir depositar ou sacar valores negativos.\n",
        "\n",
        "* Não se deve permitir sacar valores maiores que o saldo."
      ],
      "metadata": {
        "id": "JId1A9TbyuUY"
      }
    },
    {
      "cell_type": "code",
      "source": [
        "def criar_conta(num, saldo):\n",
        "  global num_conta,saldo_conta\n",
        "  num_conta = num\n",
        "  saldo_conta = saldo\n",
        "\n",
        "  print(f'A conta foi criada com o número {num_conta} e com saldo inicial R$ {saldo_conta}')\n",
        "\n",
        "def check_valor_positivo(valor):\n",
        "  if valor < 0:\n",
        "    print('Valor inválido')\n",
        "    return False\n",
        "\n",
        "  return True\n",
        "\n",
        "def depositar(valor):\n",
        "  global saldo_conta\n",
        "\n",
        "  if check_valor_positivo(valor):\n",
        "   saldo_conta = saldo_conta + valor\n",
        "\n",
        "def sacar(valor):\n",
        "  global saldo_conta\n",
        "\n",
        "  if check_valor_positivo(valor):\n",
        "    if valor <= saldo_conta:\n",
        "     saldo_conta = saldo_conta - valor\n",
        "\n",
        "  else:\n",
        "   print(\"Erro no saque!\")\n",
        "\n",
        "def saldo():\n",
        "   print(f'\\nO saldo atual da conta é {saldo_conta}')"
      ],
      "metadata": {
        "id": "IPgz2pSDx038"
      },
      "execution_count": null,
      "outputs": []
    },
    {
      "cell_type": "code",
      "source": [
        "#MAIN\n",
        "num_conta = 0\n",
        "saldo_conta = 0\n",
        "\n",
        "#Conta\n",
        "criar_conta('1212A', 1000)\n",
        "\n",
        "#Depositar\n",
        "print('\\nDepositando...')\n",
        "depositar(1000)\n",
        "\n",
        "#Sacar\n",
        "print(\"\\nSacando...\")\n",
        "sacar(100)\n",
        "\n",
        "#Ver Saldo\n",
        "saldo()"
      ],
      "metadata": {
        "colab": {
          "base_uri": "https://localhost:8080/"
        },
        "id": "M4BA6d1Yx4sT",
        "outputId": "e1d39421-f3b9-4eb2-f9e0-9cb398bf10f1"
      },
      "execution_count": null,
      "outputs": [
        {
          "output_type": "stream",
          "name": "stdout",
          "text": [
            "A conta foi criada com o número 1212A e com saldo inicial R$ 1000\n",
            "\n",
            "Depositando...\n",
            "\n",
            "Sacando...\n",
            "\n",
            "O saldo atual da conta é 1900\n"
          ]
        }
      ]
    },
    {
      "cell_type": "markdown",
      "source": [
        "### **Aula 13**"
      ],
      "metadata": {
        "id": "DzxlkbOwkjZ_"
      }
    },
    {
      "cell_type": "markdown",
      "source": [
        "Vamos expandir o sistema de gerenciamento de contas bancárias para incluir a funcionalidade de transferência entre contas.A função deve permitir transferir um determinado valor da conta corrente para a conta poupança, e o inverso também\n",
        "\n",
        "Portanto, você deve criar variáveis novas para armazenar esses novos dados."
      ],
      "metadata": {
        "id": "1kD2CbAZk0S6"
      }
    },
    {
      "cell_type": "code",
      "source": [
        "def criar_conta(tipo_conta,num,saldo):\n",
        "  global num_conta,saldo_conta,num_poupanca,saldo_poupanca\n",
        "\n",
        "  match tipo_conta:\n",
        "    case 'c':\n",
        "      num_conta = num\n",
        "      saldo_conta = saldo\n",
        "      print(f'A conta Corrente foi criada com o número {num_conta} e com saldo inicial R$ {saldo_conta}')\n",
        "    case 'p':\n",
        "      num_poupanca = num\n",
        "      saldo_poupanca = saldo\n",
        "      print(f'A conta Poupança foi criada com o número {num_poupanca} e com saldo inicial R$ {saldo_poupanca}')\n",
        "\n",
        "def check_valor_positivo(valor):\n",
        "  if valor < 0:\n",
        "    print('Valor inválido')\n",
        "    return False\n",
        "\n",
        "  return True\n",
        "\n",
        "def creditar(tipo_conta,valor):\n",
        "  global num_conta,saldo_conta,num_poupanca,saldo_poupanca\n",
        "  if check_valor_positivo(valor):\n",
        "   match tipo_conta:\n",
        "    case 'c':\n",
        "     saldo_conta = saldo_conta + valor\n",
        "    case 'p':\n",
        "     saldo_poupanca = saldo_poupanca + valor\n",
        "\n",
        "def debitar(tipo_conta,valor):\n",
        "  global saldo_conta,saldo_poupanca\n",
        "  if check_valor_positivo(valor):\n",
        "    if (saldo_conta >= valor):\n",
        "      match tipo_conta:\n",
        "        case 'c':\n",
        "         saldo_conta = saldo_conta - valor\n",
        "        case 'p':\n",
        "         saldo_poupanca = saldo_poupanca - valor\n",
        "    else: print('Saldo Insuficiente.')\n",
        "\n",
        "def transferencia(origem, destino, valor):\n",
        "  global saldo_conta, saldo_poupanca\n",
        "  match origem:\n",
        "    case 'c':\n",
        "      debitar('c', valor)\n",
        "      creditar('p', valor)\n",
        "    case 'p':\n",
        "      debitar('p', valor)\n",
        "      creditar('c', valor)\n",
        "\n",
        "def saldo():\n",
        "  return f'\\nO saldo atual da Conta Corrente é R${saldo_conta} e da Poupança é {saldo_poupanca}'"
      ],
      "metadata": {
        "id": "cWiDYu_KklMW"
      },
      "execution_count": null,
      "outputs": []
    },
    {
      "cell_type": "code",
      "source": [
        "#MAIN\n",
        "num_conta = 0\n",
        "saldo_conta = 0\n",
        "\n",
        "num_poupanca = 0\n",
        "saldo_poupanca = 0\n",
        "\n",
        "#Conta\n",
        "criar_conta('c', '1212A', 1000)\n",
        "criar_conta('p', '1313P', 900)\n",
        "\n",
        "#Depositar\n",
        "print('\\nDepositando...')\n",
        "creditar('c', 100)\n",
        "\n",
        "#Sacar\n",
        "print(\"\\nSacando...\")\n",
        "debitar('p', 100)\n",
        "\n",
        "#Transferência\n",
        "transferencia('c','p', 200)\n",
        "\n",
        "#Ver Saldo\n",
        "print(saldo())\n",
        "\n",
        "\n"
      ],
      "metadata": {
        "colab": {
          "base_uri": "https://localhost:8080/"
        },
        "id": "u8A9IUh9lHdW",
        "outputId": "698badf7-dd94-4ef3-8dd0-03c77760b93a"
      },
      "execution_count": null,
      "outputs": [
        {
          "output_type": "stream",
          "name": "stdout",
          "text": [
            "A conta Corrente foi criada com o número 1212A e com saldo inicial R$ 1000\n",
            "A conta Poupança foi criada com o número 1313P e com saldo inicial R$ 900\n",
            "\n",
            "Depositando...\n",
            "\n",
            "Sacando...\n",
            "\n",
            "O saldo atual da Conta Corrente é R$900 e da Poupança é 1000\n"
          ]
        }
      ]
    },
    {
      "cell_type": "markdown",
      "source": [
        "### Aula 14"
      ],
      "metadata": {
        "id": "2fAB2Kp-o6qS"
      }
    },
    {
      "cell_type": "markdown",
      "source": [
        "Agora, vamos adicionar uma funcionalidade que aplica uma taxa de juros anual sobre o saldo da conta poupança. Crie a função aplicar_juros, que aplica uma taxa de juros anual sobre o saldo da conta poupança.\n",
        "\n",
        "EXEMPLO\n",
        "> Saldo da poupança = R$ 1.000\n",
        "\n",
        "> Juros de 10%\n",
        "\n",
        "> Aplicar 10% no saldo = R$ 100.00\n",
        "\n",
        "> Saldo com juros = R$ 1.100,00"
      ],
      "metadata": {
        "id": "j_nTnVuXpRI8"
      }
    },
    {
      "cell_type": "code",
      "source": [
        "def aplicar_juros(taxa):\n",
        "  global saldo_poupanca\n",
        "\n",
        "  juros = taxa/100 * saldo_poupanca\n",
        "  saldo_poupanca = saldo_poupanca + juros"
      ],
      "metadata": {
        "id": "nXEjs9NwpHkn"
      },
      "execution_count": null,
      "outputs": []
    },
    {
      "cell_type": "code",
      "source": [
        "#MAIN\n",
        "#Dados Conta Corrente\n",
        "num_conta = 0\n",
        "saldo_conta = 0\n",
        "\n",
        "#Dados conta Poupança\n",
        "num_poupanca = 0\n",
        "saldo_poupanca = 0\n",
        "\n",
        "#Criar Conta\n",
        "criar_conta('p','1212P',2000)\n",
        "\n",
        "aplicar_juros(10)\n",
        "print(saldo())"
      ],
      "metadata": {
        "colab": {
          "base_uri": "https://localhost:8080/"
        },
        "id": "Esm2DVxQp2ED",
        "outputId": "54da3aaf-d46e-44d5-875e-5866961e1e2c"
      },
      "execution_count": null,
      "outputs": [
        {
          "output_type": "stream",
          "name": "stdout",
          "text": [
            "A conta Poupança foi criada com o número 1212P e com saldo inicial R$ 2000\n",
            "\n",
            "O saldo atual da Conta Corrente é R$0 e da Poupança é 2200.0\n"
          ]
        }
      ]
    }
  ]
}