{
  "nbformat": 4,
  "nbformat_minor": 0,
  "metadata": {
    "colab": {
      "provenance": [],
      "authorship_tag": "ABX9TyM16mp5NjAhjkm6QgPjA5XS",
      "include_colab_link": true
    },
    "kernelspec": {
      "name": "python3",
      "display_name": "Python 3"
    },
    "language_info": {
      "name": "python"
    }
  },
  "cells": [
    {
      "cell_type": "markdown",
      "metadata": {
        "id": "view-in-github",
        "colab_type": "text"
      },
      "source": [
        "<a href=\"https://colab.research.google.com/github/kayllanecastro/Trabalhos_TADS/blob/main/Algoritmos/aula06.ipynb\" target=\"_parent\"><img src=\"https://colab.research.google.com/assets/colab-badge.svg\" alt=\"Open In Colab\"/></a>"
      ]
    },
    {
      "cell_type": "markdown",
      "source": [
        "### 1)Faça um algoritmo que pergunte o nome e o preço de 2 produtos, e informe qual produto você deve comprar. A decisão é sempre pelo produto mais barato."
      ],
      "metadata": {
        "id": "R4dn_MLaVHZk"
      }
    },
    {
      "cell_type": "code",
      "source": [
        "# Entrada\n",
        "nome_prod1 = input(\"Digite o nome do produto 1: \")\n",
        "preco_prod1 = float(input(\"Digite o preço do produto 1: \"))\n",
        "\n",
        "nome_prod2 = input(\"Digite o nome do produto 2: \")\n",
        "preco_prod2 = float(input(\"Digite o preço do produto 2: \"))"
      ],
      "metadata": {
        "colab": {
          "base_uri": "https://localhost:8080/"
        },
        "id": "BIRcXlZEV1--",
        "outputId": "6e18fc3a-3e3a-4a3e-8f6f-08c2378d554e"
      },
      "execution_count": null,
      "outputs": [
        {
          "name": "stdout",
          "output_type": "stream",
          "text": [
            "Digite o nome do produto 1: Arroz\n",
            "Digite o preço do produto 1: 25.00\n",
            "Digite o nome do produto 2: Sabão\n",
            "Digite o preço do produto 2: 5.00\n"
          ]
        }
      ]
    },
    {
      "cell_type": "code",
      "source": [
        "# Lógica - Descobrir o produto mais barato\n",
        "if (preco_prod1 < preco_prod2) :\n",
        "  menor_preco = preco_prod1\n",
        "  produto_barato = nome_prod1\n",
        "elif (preco_prod2 < preco_prod1):\n",
        "    menor_preco = preco_prod2\n",
        "    produto_barato = nome_prod2\n",
        "else:\n",
        "    menor_preco = \"São iguais\"\n",
        "    produto_barato = \"São iguais\""
      ],
      "metadata": {
        "id": "-gHFsazEV23d"
      },
      "execution_count": null,
      "outputs": []
    },
    {
      "cell_type": "code",
      "source": [
        "# Saída\n",
        "print(f\"O produto mais barato é: {produto_barato} por {menor_preco}\")"
      ],
      "metadata": {
        "colab": {
          "base_uri": "https://localhost:8080/"
        },
        "id": "I9qIFwhHdDny",
        "outputId": "e920ed99-f51f-4c46-ace3-c2973fd472a0"
      },
      "execution_count": null,
      "outputs": [
        {
          "output_type": "stream",
          "name": "stdout",
          "text": [
            "O produto mais barato é: Sabão por 5.0\n"
          ]
        }
      ]
    },
    {
      "cell_type": "markdown",
      "source": [
        "### 2)Todos os dias João Pescador sai para pescar no rio Parnaíba. O regulamento de pesca do estado do Piauí diz que para cada peixe que exceder 10 quilos, o pescador irá pagar uma multa de R$ 1.50 por quilo excedente. João pescador então decidiu comprar um microcomputador para controlar o rendimento diário de seu trabalho e saber exatamente quanto irá pagar de multa por cada peixe. Deste modo, você precisa criar um algoritmo onde João informe o peso do peixe pescado e verifique se há excesso. Se houver, deve calcular o valor da multa que João deverá pagar. Caso contrário, informar que não terá multa para pagar."
      ],
      "metadata": {
        "id": "04hT0CDbgiGk"
      }
    },
    {
      "cell_type": "code",
      "source": [
        "# Entrada\n",
        "peso_peixe = float(input(\"Digite o peso(kg) do peixe pescado: \"))\n",
        "multa_kg = 1.50"
      ],
      "metadata": {
        "colab": {
          "base_uri": "https://localhost:8080/"
        },
        "id": "Yx8BkpLzgu32",
        "outputId": "42ea96f3-3ba7-46e8-857a-bc206c5303c6"
      },
      "execution_count": null,
      "outputs": [
        {
          "name": "stdout",
          "output_type": "stream",
          "text": [
            "Digite o peso(kg) do peixe pescado: 13\n"
          ]
        }
      ]
    },
    {
      "cell_type": "code",
      "source": [
        "# Lógica - calcular o valor da multa que João deverá pagar\n",
        "if peso_peixe > 10:\n",
        "\n",
        "   multa = (peso_peixe - 10) * multa_kg\n",
        "\n",
        "else:\n",
        "   multa = 'Não tem multa para pagar'"
      ],
      "metadata": {
        "id": "9tsJsPEqgvfM"
      },
      "execution_count": null,
      "outputs": []
    },
    {
      "cell_type": "code",
      "source": [
        "# Saída\n",
        "print(f\"A multa pelo peixe será: R${multa}\")"
      ],
      "metadata": {
        "colab": {
          "base_uri": "https://localhost:8080/"
        },
        "id": "6uNIeWTSgvzL",
        "outputId": "bd20add5-a8c3-437e-f833-822faff48cd0"
      },
      "execution_count": null,
      "outputs": [
        {
          "output_type": "stream",
          "name": "stdout",
          "text": [
            "A multa pelo peixe será: R$4.5\n"
          ]
        }
      ]
    },
    {
      "cell_type": "markdown",
      "source": [
        "### 3) Angical terá um campeonato de natação. Os participantes competem por categorias. A categoria do competidor é de acordo com a sua idade. Elabore um algoritmo que dado nome e a idade do nadador, seja informado em qual categoria ele irá competir.\n",
        "### Infantil A = 5 a 7 anos; Infantil B = 8 a 11 anos; Juvenil A = 12 a 13 anos;Juvenil B = 14 a 17 anos; Adultos = Maiores de 18 anos"
      ],
      "metadata": {
        "id": "bYsFtNBvjBWr"
      }
    },
    {
      "cell_type": "code",
      "source": [
        "# Entrada\n",
        "nome = input(\"Digite o nome do nadador: \")\n",
        "idade = int(input(\"Digite a idade do nadador: \"))"
      ],
      "metadata": {
        "colab": {
          "base_uri": "https://localhost:8080/"
        },
        "id": "qfZjP3z0jceG",
        "outputId": "23fd8c80-4239-4bef-ff82-c088a64111cb"
      },
      "execution_count": null,
      "outputs": [
        {
          "name": "stdout",
          "output_type": "stream",
          "text": [
            "Digite o nome do nadador: Kay\n",
            "Digite a idade do nadador: 16\n"
          ]
        }
      ]
    },
    {
      "cell_type": "code",
      "source": [
        "# Lógica\n",
        "if idade >= 5 and idade <= 7:\n",
        "   categoria = \"Infantil A\"\n",
        "elif idade >= 8 and idade <= 11:\n",
        "   categoria = \"Infantil B\"\n",
        "elif idade >= 12 and idade <= 13:\n",
        "   categoria = \"Juvenil A\"\n",
        "elif idade >= 14 and idade <= 17:\n",
        "   categoria = \"Juvenil B\"\n",
        "elif idade >= 18:\n",
        "   categoria = \"Adultos\""
      ],
      "metadata": {
        "id": "8GFG2UDwlQMA"
      },
      "execution_count": null,
      "outputs": []
    },
    {
      "cell_type": "code",
      "source": [
        "# Saída\n",
        "print(f'O nadador {nome} pertence a categoria {categoria}')"
      ],
      "metadata": {
        "colab": {
          "base_uri": "https://localhost:8080/"
        },
        "id": "5R-8HlsblQdh",
        "outputId": "19b0ebbc-62cd-47cd-e5bd-c3917702b4b0"
      },
      "execution_count": null,
      "outputs": [
        {
          "output_type": "stream",
          "name": "stdout",
          "text": [
            "O nadador Kay pertence a categoria Juvenil B\n"
          ]
        }
      ]
    }
  ]
}