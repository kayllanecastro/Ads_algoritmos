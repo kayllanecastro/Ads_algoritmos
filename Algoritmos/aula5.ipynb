{
  "nbformat": 4,
  "nbformat_minor": 0,
  "metadata": {
    "colab": {
      "provenance": [],
      "include_colab_link": true
    },
    "kernelspec": {
      "name": "python3",
      "display_name": "Python 3"
    },
    "language_info": {
      "name": "python"
    }
  },
  "cells": [
    {
      "cell_type": "markdown",
      "metadata": {
        "id": "view-in-github",
        "colab_type": "text"
      },
      "source": [
        "<a href=\"https://colab.research.google.com/github/kayllanecastro/Trabalhos_TADS/blob/main/Algoritmos/aula5.ipynb\" target=\"_parent\"><img src=\"https://colab.research.google.com/assets/colab-badge.svg\" alt=\"Open In Colab\"/></a>"
      ]
    },
    {
      "cell_type": "markdown",
      "source": [
        "### 1) Calculadora. As operações deve ser somente de números positivos."
      ],
      "metadata": {
        "id": "sX5KGoKe1rJ5"
      }
    },
    {
      "cell_type": "markdown",
      "source": [
        "**Entrada**"
      ],
      "metadata": {
        "id": "oNKcHw7v1rKL"
      }
    },
    {
      "cell_type": "code",
      "source": [
        "num1 = int(input(\"Digite o primeiro número: \"))\n",
        "num2 = int(input(\"Digite o segundo número: \"))"
      ],
      "metadata": {
        "id": "HwU2dbUT1rKS",
        "colab": {
          "base_uri": "https://localhost:8080/"
        },
        "outputId": "9723c44d-b84b-49fc-c69e-53f558205894"
      },
      "execution_count": null,
      "outputs": [
        {
          "name": "stdout",
          "output_type": "stream",
          "text": [
            "Digite o primeiro número: -2\n",
            "Digite o segundo número: 3\n"
          ]
        }
      ]
    },
    {
      "cell_type": "markdown",
      "source": [
        "**Lógica**"
      ],
      "metadata": {
        "id": "SKDjMrOf1rKc"
      }
    },
    {
      "cell_type": "code",
      "source": [
        "if num1>=0 and num2>=0:\n",
        "\n",
        "  soma = num1 + num2\n",
        "  subtr = num1 - num2\n",
        "  multi = num1 * num2\n",
        "  div = num1 / num2\n",
        "\n",
        "  print(f'Soma = {soma} , Subtração = {subtr} , Multiplicação = {multi} , Divisão = {round(div, 2)}')\n",
        "\n",
        "else:\n",
        "\n",
        "  print('Os números devem ser positivos')\n"
      ],
      "metadata": {
        "id": "k59lHyzt1rKn",
        "colab": {
          "base_uri": "https://localhost:8080/"
        },
        "outputId": "03d0ab66-2211-4799-cc85-e16c72831d1b"
      },
      "execution_count": null,
      "outputs": [
        {
          "output_type": "stream",
          "name": "stdout",
          "text": [
            "Os números devem ser positivos\n"
          ]
        }
      ]
    },
    {
      "cell_type": "markdown",
      "source": [
        "### 2) Calcular Idade. Não permitir números negativos para ano atual e ano de nascimento. O ano de nascimento deve ser menor que o ano atual."
      ],
      "metadata": {
        "id": "wbOAEUlZ1rK1"
      }
    },
    {
      "cell_type": "markdown",
      "source": [
        "**Entrada**"
      ],
      "metadata": {
        "id": "rl_5IHPO1rK6"
      }
    },
    {
      "cell_type": "code",
      "source": [
        "nome = input(\"Digite o seu nome: \")\n",
        "ano_nasc = int(input(\"Digite o ano de nascimento: \"))\n",
        "ano_atual = int(input(\"Digite o ano atual: \"))"
      ],
      "metadata": {
        "id": "AQmE5Y0v1rK_",
        "colab": {
          "base_uri": "https://localhost:8080/"
        },
        "outputId": "1e0cc772-4813-44ed-f7b1-8309a21810d3"
      },
      "execution_count": null,
      "outputs": [
        {
          "name": "stdout",
          "output_type": "stream",
          "text": [
            "Digite o seu nome: Kayllane\n",
            "Digite o ano de nascimento: 1945\n",
            "Digite o ano atual: 2024\n"
          ]
        }
      ]
    },
    {
      "cell_type": "markdown",
      "source": [
        "**Lógica**"
      ],
      "metadata": {
        "id": "vQUbI-Wl1rLD"
      }
    },
    {
      "cell_type": "code",
      "source": [
        "if ano_atual >= 0 and ano_nasc >=0 and ano_nasc < ano_atual:\n",
        "\n",
        "   idade = ano_atual - ano_nasc\n",
        "\n",
        "   print(f\"{nome}, você tem {idade} anos.\")\n",
        "\n",
        "else:\n",
        "  print('Não foi possivel realizar a operação.')"
      ],
      "metadata": {
        "id": "ubVTQQui1rLI",
        "colab": {
          "base_uri": "https://localhost:8080/"
        },
        "outputId": "070af845-96a3-4236-c286-58f95927e8f4"
      },
      "execution_count": null,
      "outputs": [
        {
          "output_type": "stream",
          "name": "stdout",
          "text": [
            "Kayllane, você tem 79 anos.\n"
          ]
        }
      ]
    },
    {
      "cell_type": "markdown",
      "source": [
        "### 3) Velocidade média. Os sobre distância e tempo devem ser maiores que zero e positivos."
      ],
      "metadata": {
        "id": "IzD3x4TQ1rLR"
      }
    },
    {
      "cell_type": "markdown",
      "source": [
        "**Entrada**"
      ],
      "metadata": {
        "id": "TXJ6v2sw1rLU"
      }
    },
    {
      "cell_type": "code",
      "source": [
        "distancia= int(input(\"Digite a distância (em km) percorrida: \"))\n",
        "tempo= int(input(\"Digite o tempo que levou: \"))"
      ],
      "metadata": {
        "id": "0ksLSB7A1rLY",
        "colab": {
          "base_uri": "https://localhost:8080/"
        },
        "outputId": "7b9323e6-410e-4624-a83c-fafbc0cd3503"
      },
      "execution_count": null,
      "outputs": [
        {
          "name": "stdout",
          "output_type": "stream",
          "text": [
            "Digite a distância (em km) percorrida: 545\n",
            "Digite o tempo que levou: 4\n"
          ]
        }
      ]
    },
    {
      "cell_type": "markdown",
      "source": [
        "**Lógica**"
      ],
      "metadata": {
        "id": "CUP12qpR1rLc"
      }
    },
    {
      "cell_type": "code",
      "source": [
        "if distancia >= 0 and tempo >= 0:\n",
        "\n",
        "  veloc_med = distancia / tempo\n",
        "  print(f'A velocidade média que Tigas andava era de {veloc_med} km/h')\n",
        "\n",
        "else:\n",
        "  print('Não foi possivel calcular a velocidade média')"
      ],
      "metadata": {
        "id": "fKSpB2so1rLf",
        "colab": {
          "base_uri": "https://localhost:8080/"
        },
        "outputId": "9015c9cb-ed3f-47e5-e3e4-f05eec76c2d6"
      },
      "execution_count": null,
      "outputs": [
        {
          "output_type": "stream",
          "name": "stdout",
          "text": [
            "A velocidade média que Tigas andava era de 136.25 km/h\n"
          ]
        }
      ]
    },
    {
      "cell_type": "markdown",
      "source": [
        "### 4) Preço do Almoço. O peso do prato não pode ser zero. E também não pode ser negativo."
      ],
      "metadata": {
        "id": "eChdCLwK1rLq"
      }
    },
    {
      "cell_type": "markdown",
      "source": [
        "**Entrada**"
      ],
      "metadata": {
        "id": "39OwT1-_1rLt"
      }
    },
    {
      "cell_type": "code",
      "source": [
        "precokg = 12.00\n",
        "peso = float(input('Informe o peso(kg) do prato montado pelo cliente: '))"
      ],
      "metadata": {
        "id": "ItnVmV4x1rLx",
        "colab": {
          "base_uri": "https://localhost:8080/"
        },
        "outputId": "6c3f1c18-3e83-4790-8e07-f56126a78f21"
      },
      "execution_count": null,
      "outputs": [
        {
          "name": "stdout",
          "output_type": "stream",
          "text": [
            "Informe o peso(kg) do prato montado pelo cliente: 2\n"
          ]
        }
      ]
    },
    {
      "cell_type": "markdown",
      "source": [
        "**Lógica**"
      ],
      "metadata": {
        "id": "vKOWwBEO1rL0"
      }
    },
    {
      "cell_type": "code",
      "source": [
        "if peso > 0:\n",
        "\n",
        "  valor= peso * precokg\n",
        "\n",
        "  print(f'O valor a pagar é {valor}')\n",
        "\n",
        "else:\n",
        "\n",
        "  print('Não foi possivel calcular o valor')"
      ],
      "metadata": {
        "id": "9_CfGBhE1rL4",
        "colab": {
          "base_uri": "https://localhost:8080/"
        },
        "outputId": "99bcea64-aad9-48ae-bc0c-1cd6f29226f0"
      },
      "execution_count": null,
      "outputs": [
        {
          "output_type": "stream",
          "name": "stdout",
          "text": [
            "O valor a pagar é 24.0\n"
          ]
        }
      ]
    },
    {
      "cell_type": "markdown",
      "source": [
        "### 5) Dias vividos. o nome não pode estar vazio e deve ter no mínimo três letras(use a função len do Python). Idade deve ser maior que zero."
      ],
      "metadata": {
        "id": "lBZrw_2ly-mr"
      }
    },
    {
      "cell_type": "markdown",
      "source": [
        "**Entrada**"
      ],
      "metadata": {
        "id": "5ZhczL0Py-m6"
      }
    },
    {
      "cell_type": "code",
      "source": [
        "nome = input(\"Informe o seu nome: \")\n",
        "idade = int(input(\"Informe a sua idade: \"))\n",
        "ano = 365"
      ],
      "metadata": {
        "id": "PRvYFcXry-nC",
        "colab": {
          "base_uri": "https://localhost:8080/"
        },
        "outputId": "887d6df0-0fe7-48fa-979b-d15e350a95e3"
      },
      "execution_count": null,
      "outputs": [
        {
          "name": "stdout",
          "output_type": "stream",
          "text": [
            "Informe o seu nome: Kay\n",
            "Informe a sua idade: 21\n"
          ]
        }
      ]
    },
    {
      "cell_type": "markdown",
      "source": [
        "**Lógica**"
      ],
      "metadata": {
        "id": "vzUAfNevy-nI"
      }
    },
    {
      "cell_type": "code",
      "source": [
        "if len (nome) >= 3 and idade > 0:\n",
        "\n",
        "  diasvida = idade * ano\n",
        "\n",
        "  print(f'{nome}, VOCÊ JÁ VIVEU {diasvida} DIAS.')\n",
        "\n",
        "else:\n",
        "\n",
        "  print('Não foi possivel realizar a operação.')"
      ],
      "metadata": {
        "id": "3wgIEbzNy-nN",
        "colab": {
          "base_uri": "https://localhost:8080/"
        },
        "outputId": "bb94d10f-3343-41fa-eb32-10edef0117ea"
      },
      "execution_count": null,
      "outputs": [
        {
          "output_type": "stream",
          "name": "stdout",
          "text": [
            "Kay, VOCÊ JÁ VIVEU 7665 DIAS.\n"
          ]
        }
      ]
    },
    {
      "cell_type": "markdown",
      "source": [
        "### 6) Valor em caixa da padaria. A quantidade de pães franceses e a quantidade de broas não pode ser menor que zero."
      ],
      "metadata": {
        "id": "ylO1xVppeuoq"
      }
    },
    {
      "cell_type": "markdown",
      "source": [
        "**Entrada**"
      ],
      "metadata": {
        "id": "KMSM0RK4ewOO"
      }
    },
    {
      "cell_type": "code",
      "source": [
        "paes = int(input('Informe a quantidade de pães vendidos: '))\n",
        "broas = int(input('Informe a quantidade de broas vendidos: '))\n",
        "valor_paes = 0.12\n",
        "valor_broas = 1.50"
      ],
      "metadata": {
        "id": "XAWnQwsyewsZ",
        "colab": {
          "base_uri": "https://localhost:8080/"
        },
        "outputId": "8b6504f9-a9cd-4ac7-8568-e6e7ad181f0f"
      },
      "execution_count": null,
      "outputs": [
        {
          "name": "stdout",
          "output_type": "stream",
          "text": [
            "Informe a quantidade de pães vendidos: 0\n",
            "Informe a quantidade de broas vendidos: 2\n"
          ]
        }
      ]
    },
    {
      "cell_type": "markdown",
      "source": [
        "**Lógica**"
      ],
      "metadata": {
        "id": "vmg-1u45exMf"
      }
    },
    {
      "cell_type": "code",
      "source": [
        "if paes >= 0 and broas >= 0:\n",
        "\n",
        "  totalvend = (valor_paes * paes) + (valor_broas * broas)\n",
        "\n",
        "  print(f'Foi arrecadado {totalvend} reais com a venda de {paes} pães e {broas} broas')\n",
        "\n",
        "else:\n",
        "\n",
        "  print('Não foi possivel calcular.')"
      ],
      "metadata": {
        "id": "T3Mti8dRexne",
        "colab": {
          "base_uri": "https://localhost:8080/"
        },
        "outputId": "e859cfe5-4ec4-4c4e-848c-d885029ef338"
      },
      "execution_count": null,
      "outputs": [
        {
          "output_type": "stream",
          "name": "stdout",
          "text": [
            "Foi arrecadado 3.0 reais com a venda de 0 pães e 2 broas\n"
          ]
        }
      ]
    },
    {
      "cell_type": "markdown",
      "source": [
        "### 7) Litros de gasolina. O preço do litro da gasolina e o valor do pagamento devem ser maior que zero."
      ],
      "metadata": {
        "id": "SIkuGtuCzA1W"
      }
    },
    {
      "cell_type": "markdown",
      "source": [
        "**Entrada**"
      ],
      "metadata": {
        "id": "QfwYDbT1zA1q"
      }
    },
    {
      "cell_type": "code",
      "source": [
        "preco_litro = float(input('Informe o preço da gasolina: '))\n",
        "valorpag = float(input('Informe o valor do pagamento: '))"
      ],
      "metadata": {
        "id": "sVV_z0V9zA1z",
        "colab": {
          "base_uri": "https://localhost:8080/"
        },
        "outputId": "4cb03aff-9fb2-45cb-e05f-d6d35d4f5ef2"
      },
      "execution_count": null,
      "outputs": [
        {
          "name": "stdout",
          "output_type": "stream",
          "text": [
            "Informe o preço da gasolina: 6\n",
            "Informe o valor do pagamento: 50\n"
          ]
        }
      ]
    },
    {
      "cell_type": "markdown",
      "source": [
        "**Lógica**"
      ],
      "metadata": {
        "id": "m1INoZmVzA18"
      }
    },
    {
      "cell_type": "code",
      "source": [
        "if preco_litro > 0 and valorpag > 0:\n",
        "\n",
        "  litros = valorpag / preco_litro\n",
        "\n",
        "  print(f'Você abasteceu com {round(litros, 2)} litros')\n",
        "\n",
        "else:\n",
        "  print('Não foi possivel calcular a litragem')"
      ],
      "metadata": {
        "id": "TvZzCyHrzA2D",
        "colab": {
          "base_uri": "https://localhost:8080/"
        },
        "outputId": "c2e1c544-6fad-48d0-9f82-4e59d67a5cbd"
      },
      "execution_count": null,
      "outputs": [
        {
          "output_type": "stream",
          "name": "stdout",
          "text": [
            "Você abasteceu com 8.33 litros\n"
          ]
        }
      ]
    },
    {
      "cell_type": "markdown",
      "source": [
        "### 8) Salário. O nome de um funcionário não pode ser vazio, o número de horas trabalhadas não pode ultrapassar 100 horas e deve ser maior que zero"
      ],
      "metadata": {
        "id": "wPUPqHSUzDZX"
      }
    },
    {
      "cell_type": "markdown",
      "source": [
        "**Entrada**"
      ],
      "metadata": {
        "id": "SVENwMoOzDZ1"
      }
    },
    {
      "cell_type": "code",
      "source": [
        "nome_funcionario = input(\"Digite o nome do funcionário: \")\n",
        "horas_trabalhadas = int(input(\"Digite o número de horas trabalhadas: \"))\n",
        "valorhora = 120"
      ],
      "metadata": {
        "id": "E0fTbb2JzDZ6",
        "colab": {
          "base_uri": "https://localhost:8080/"
        },
        "outputId": "2fd14158-671a-4c86-83cf-2b7f8c1a9099"
      },
      "execution_count": null,
      "outputs": [
        {
          "name": "stdout",
          "output_type": "stream",
          "text": [
            "Digite o nome do funcionário: Kay\n",
            "Digite o número de horas trabalhadas: 80\n"
          ]
        }
      ]
    },
    {
      "cell_type": "markdown",
      "source": [
        "**Lógica**"
      ],
      "metadata": {
        "id": "diaPxbnIzDZ9"
      }
    },
    {
      "cell_type": "code",
      "source": [
        "if len(nome_funcionario) > 0 and horas_trabalhadas < 100 and horas_trabalhadas > 0:\n",
        "\n",
        "  salario = horas_trabalhadas * valorhora\n",
        "\n",
        "  print(f\"O salário de {nome_funcionario} é R$ {salario}\")\n",
        "\n",
        "else:\n",
        "\n",
        "  print('Não foi possivel calcular o salário.')"
      ],
      "metadata": {
        "colab": {
          "base_uri": "https://localhost:8080/"
        },
        "id": "9Cx87ENir8Hp",
        "outputId": "4d9ebcec-ab8a-4029-bfbe-be74ae532e3f"
      },
      "execution_count": null,
      "outputs": [
        {
          "output_type": "stream",
          "name": "stdout",
          "text": [
            "O salário de Kay é R$ 9600\n"
          ]
        }
      ]
    }
  ]
}