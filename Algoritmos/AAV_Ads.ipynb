{
  "nbformat": 4,
  "nbformat_minor": 0,
  "metadata": {
    "colab": {
      "provenance": [],
      "authorship_tag": "ABX9TyPinls2wlLmqGk0slf9lyDe",
      "include_colab_link": true
    },
    "kernelspec": {
      "name": "python3",
      "display_name": "Python 3"
    },
    "language_info": {
      "name": "python"
    }
  },
  "cells": [
    {
      "cell_type": "markdown",
      "metadata": {
        "id": "view-in-github",
        "colab_type": "text"
      },
      "source": [
        "<a href=\"https://colab.research.google.com/github/kayllanecastro/Trabalhos_TADS/blob/main/Algoritmos/AAV_Ads.ipynb\" target=\"_parent\"><img src=\"https://colab.research.google.com/assets/colab-badge.svg\" alt=\"Open In Colab\"/></a>"
      ]
    },
    {
      "cell_type": "markdown",
      "source": [
        "### **1) Sistema de Pedidos em uma Lanchonete**"
      ],
      "metadata": {
        "id": "2X9ryMoXetcj"
      }
    },
    {
      "cell_type": "code",
      "execution_count": null,
      "metadata": {
        "id": "zan9LWI6bvwh"
      },
      "outputs": [],
      "source": [
        "def menu(item, quant):\n",
        " global valor\n",
        " match item:\n",
        "      case '1':\n",
        "        produto = 'Hamburguer'\n",
        "        valor = 10.00 * quant\n",
        "      case '2':\n",
        "        produto = 'Batata Frita'\n",
        "        valor = 5.00 * quant\n",
        "      case '3':\n",
        "        produto = 'Refrigerante'\n",
        "        valor = 3.00 * quant\n",
        "\n",
        "def desconto_compra(valor_desconto):\n",
        "  global desconto\n",
        "  desconto = valor_desconto\n",
        "  return desconto\n",
        "\n",
        "def total_pedido():\n",
        "  global valor_total, desconto\n",
        "  valor_total = valor - desconto\n",
        "  return print(f'Valor total do pedido: {valor_total}')\n",
        "\n",
        "def validar(valor_pag):\n",
        "  global valor_total\n",
        "  if valor_pag > valor_total:\n",
        "    return True\n",
        "  else:\n",
        "    return print('Valor Insuficiente')\n",
        "\n",
        "def troco_compra(valor_pag):\n",
        "  global valor_total\n",
        "  troco = valor_pag - valor_total\n",
        "  return print(f'Valor do troco: {troco}')\n"
      ]
    },
    {
      "cell_type": "code",
      "source": [
        "#MAIN - Algoritmo Principal\n",
        "valor_total = 0\n",
        "desconto = 0\n",
        "\n",
        "#Menu - Escolha o item\n",
        "menu('1', 3)\n",
        "\n",
        "#Desconto - Digite o valor do desconto\n",
        "desconto_compra(0)\n",
        "\n",
        "#Valor total do pedido\n",
        "total_pedido()\n",
        "\n",
        "#Validar - Digite o valor do pagamento\n",
        "validar(40)\n",
        "\n",
        "#Troco da compra - Digite o valor do pagamento\n",
        "troco_compra(40)\n",
        "\n"
      ],
      "metadata": {
        "colab": {
          "base_uri": "https://localhost:8080/"
        },
        "id": "CjyxCkyQhRj2",
        "outputId": "3f8597ed-7782-4da8-f170-be01589e3101"
      },
      "execution_count": null,
      "outputs": [
        {
          "output_type": "stream",
          "name": "stdout",
          "text": [
            "Valor total do pedido: 30.0\n",
            "Valor do troco: 10.0\n"
          ]
        }
      ]
    },
    {
      "cell_type": "markdown",
      "source": [
        "### **2) O Desafio da Fazenda Automatizada**"
      ],
      "metadata": {
        "id": "H5Kybs--0l18"
      }
    },
    {
      "cell_type": "code",
      "source": [
        "def irrigar(quant):\n",
        " global nivel_total, nivel_atual\n",
        " nivel_atual = nivel_total - quant\n",
        " nivel_total = nivel_atual\n",
        "\n",
        " return print(f'O nivel atual do reservatório após irrigação: {nivel_atual}')\n",
        "\n",
        "def verificar():\n",
        " global nivel_total, limite\n",
        "\n",
        " if nivel_total == limite:\n",
        "  return print('ATENÇÃO !!!\\nO nivel atual de água é 20%')\n",
        " elif nivel_total < limite:\n",
        "    return print('Impossivel realizar a irrigação \\nQuantidade de água abaixo de 20%')\n",
        " else:\n",
        "    return print('Nivel de água suficiente')\n",
        "\n",
        "def verificar_atual():\n",
        "  global nivel_total, limite\n",
        "  if nivel_total < limite:\n",
        "    return False\n",
        "  else:\n",
        "    return True\n",
        "\n",
        "def reabastecer(quant):\n",
        " global nivel_total, nivel_atual\n",
        " if verificar_atual():\n",
        "  return print('Não é necessário reabastecimento')\n",
        "\n",
        " else:\n",
        "    nivel_atual = nivel_total + quant\n",
        "\n",
        "    return print(f'O novo nivel do reservatório é: {nivel_atual}')\n",
        "\n"
      ],
      "metadata": {
        "id": "_Ce763j20udZ"
      },
      "execution_count": null,
      "outputs": []
    },
    {
      "cell_type": "code",
      "source": [
        "#MAIN - Algoritmo Principal\n",
        "nivel_total = 100\n",
        "limite = 20\n",
        "nivel_atual = 0\n",
        "\n",
        "#Realiza a irrigação\n",
        "irrigar(90)\n",
        "\n",
        "#Verifica o nível do reservatório atual e retorna uma mensagem de alerta\n",
        "verificar()\n",
        "\n",
        "#Verifica se o reservatório tem água suficiente para realizar a irrigação da plantação no momento.\n",
        "verificar_atual()\n",
        "\n",
        "#Reabastece o reservatório com uma quantidade de litros informada e que retorne o novo nível do reservatório.\n",
        "reabastecer(70)"
      ],
      "metadata": {
        "colab": {
          "base_uri": "https://localhost:8080/"
        },
        "id": "yVdR6KLN2flU",
        "outputId": "0e5b3689-63c6-4546-94f6-4ba973c11f77"
      },
      "execution_count": null,
      "outputs": [
        {
          "output_type": "stream",
          "name": "stdout",
          "text": [
            "O nivel atual do reservatório após irrigação: 10\n",
            "Impossivel realizar a irrigação \n",
            "Quantidade de água abaixo de 20%\n",
            "O novo nivel do reservatório é: 80\n"
          ]
        }
      ]
    }
  ]
}